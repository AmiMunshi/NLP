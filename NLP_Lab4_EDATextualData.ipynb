{
  "nbformat": 4,
  "nbformat_minor": 0,
  "metadata": {
    "colab": {
      "provenance": []
    },
    "kernelspec": {
      "name": "python3",
      "display_name": "Python 3"
    },
    "language_info": {
      "name": "python"
    }
  },
  "cells": [
    {
      "cell_type": "markdown",
      "source": [
        "https://neptune.ai/blog/exploratory-data-analysis-natural-language-processing-tools\n",
        "\n",
        "https://www.analyticsvidhya.com/blog/2020/04/beginners-guide-exploratory-data-analysis-text-data/\n",
        "\n",
        "https://www.kdnuggets.com/2019/05/complete-exploratory-data-analysis-visualization-text-data.html\n",
        "\n",
        "https://jovian.com/beekaysh/eda-on-books-project"
      ],
      "metadata": {
        "id": "-70Ox4FPtniw"
      }
    },
    {
      "cell_type": "markdown",
      "source": [
        "Task\n",
        "\n",
        "a.\tTo access two books or novels and perform the following task\n",
        "\n",
        "i\tObtain most frequent words distribution,\n",
        "\n",
        "ii\taverage chapter length\n",
        "\n",
        "iii\tmost frequent phrases (bi, tri and quadgrams), names of characters, places\n",
        "\n",
        "b.\tTo select a dataset from real world example having reviews of any firm/product/books/hotel reviews etc and perform the following tasks\n",
        "\n",
        "i\tRead the dataset which is in csv or excel format\n",
        "\n",
        "ii\tUnderstand the dataset, comprehend and formulate problem statement for the given dataset\n",
        "\n",
        "iii\tPerform EDA on the dataset\n"
      ],
      "metadata": {
        "id": "cY4DwafIWrCP"
      }
    },
    {
      "cell_type": "code",
      "execution_count": null,
      "metadata": {
        "colab": {
          "base_uri": "https://localhost:8080/"
        },
        "id": "jyA0awPMsRXy",
        "outputId": "dfdcadcd-aed5-4d38-b60a-8664e7c15a72"
      },
      "outputs": [
        {
          "output_type": "stream",
          "name": "stdout",
          "text": [
            "Requirement already satisfied: nltk in /usr/local/lib/python3.10/dist-packages (3.8.1)\n",
            "Requirement already satisfied: click in /usr/local/lib/python3.10/dist-packages (from nltk) (8.1.7)\n",
            "Requirement already satisfied: joblib in /usr/local/lib/python3.10/dist-packages (from nltk) (1.3.2)\n",
            "Requirement already satisfied: regex>=2021.8.3 in /usr/local/lib/python3.10/dist-packages (from nltk) (2023.6.3)\n",
            "Requirement already satisfied: tqdm in /usr/local/lib/python3.10/dist-packages (from nltk) (4.66.1)\n"
          ]
        }
      ],
      "source": [
        "!pip install nltk"
      ]
    },
    {
      "cell_type": "code",
      "source": [
        "import nltk"
      ],
      "metadata": {
        "id": "m25jJKjnsXnB"
      },
      "execution_count": null,
      "outputs": []
    },
    {
      "cell_type": "code",
      "source": [
        "nltk.download()"
      ],
      "metadata": {
        "colab": {
          "base_uri": "https://localhost:8080/"
        },
        "id": "Gp8UCbOdzGwM",
        "outputId": "8d0fbb52-a975-4eb9-f46e-e0937f9e04f1"
      },
      "execution_count": null,
      "outputs": [
        {
          "name": "stdout",
          "output_type": "stream",
          "text": [
            "NLTK Downloader\n",
            "---------------------------------------------------------------------------\n",
            "    d) Download   l) List    u) Update   c) Config   h) Help   q) Quit\n",
            "---------------------------------------------------------------------------\n",
            "Downloader> d\n",
            "\n",
            "Download which package (l=list; x=cancel)?\n",
            "  Identifier> all\n"
          ]
        },
        {
          "output_type": "stream",
          "name": "stderr",
          "text": [
            "    Downloading collection 'all'\n",
            "       | \n",
            "       | Downloading package abc to /root/nltk_data...\n",
            "       |   Unzipping corpora/abc.zip.\n",
            "       | Downloading package alpino to /root/nltk_data...\n",
            "       |   Unzipping corpora/alpino.zip.\n",
            "       | Downloading package averaged_perceptron_tagger to\n",
            "       |     /root/nltk_data...\n",
            "       |   Unzipping taggers/averaged_perceptron_tagger.zip.\n",
            "       | Downloading package averaged_perceptron_tagger_ru to\n",
            "       |     /root/nltk_data...\n",
            "       |   Unzipping taggers/averaged_perceptron_tagger_ru.zip.\n",
            "       | Downloading package basque_grammars to /root/nltk_data...\n",
            "       |   Unzipping grammars/basque_grammars.zip.\n",
            "       | Downloading package bcp47 to /root/nltk_data...\n",
            "       | Downloading package biocreative_ppi to /root/nltk_data...\n",
            "       |   Unzipping corpora/biocreative_ppi.zip.\n",
            "       | Downloading package bllip_wsj_no_aux to /root/nltk_data...\n",
            "       |   Unzipping models/bllip_wsj_no_aux.zip.\n",
            "       | Downloading package book_grammars to /root/nltk_data...\n",
            "       |   Unzipping grammars/book_grammars.zip.\n",
            "       | Downloading package brown to /root/nltk_data...\n",
            "       |   Unzipping corpora/brown.zip.\n",
            "       | Downloading package brown_tei to /root/nltk_data...\n",
            "       |   Unzipping corpora/brown_tei.zip.\n",
            "       | Downloading package cess_cat to /root/nltk_data...\n",
            "       |   Unzipping corpora/cess_cat.zip.\n",
            "       | Downloading package cess_esp to /root/nltk_data...\n",
            "       |   Unzipping corpora/cess_esp.zip.\n",
            "       | Downloading package chat80 to /root/nltk_data...\n",
            "       |   Unzipping corpora/chat80.zip.\n",
            "       | Downloading package city_database to /root/nltk_data...\n",
            "       |   Unzipping corpora/city_database.zip.\n",
            "       | Downloading package cmudict to /root/nltk_data...\n",
            "       |   Unzipping corpora/cmudict.zip.\n",
            "       | Downloading package comparative_sentences to\n",
            "       |     /root/nltk_data...\n",
            "       |   Unzipping corpora/comparative_sentences.zip.\n",
            "       | Downloading package comtrans to /root/nltk_data...\n",
            "       | Downloading package conll2000 to /root/nltk_data...\n",
            "       |   Unzipping corpora/conll2000.zip.\n",
            "       | Downloading package conll2002 to /root/nltk_data...\n",
            "       |   Unzipping corpora/conll2002.zip.\n",
            "       | Downloading package conll2007 to /root/nltk_data...\n",
            "       | Downloading package crubadan to /root/nltk_data...\n",
            "       |   Unzipping corpora/crubadan.zip.\n",
            "       | Downloading package dependency_treebank to /root/nltk_data...\n",
            "       |   Unzipping corpora/dependency_treebank.zip.\n",
            "       | Downloading package dolch to /root/nltk_data...\n",
            "       |   Unzipping corpora/dolch.zip.\n",
            "       | Downloading package europarl_raw to /root/nltk_data...\n",
            "       |   Unzipping corpora/europarl_raw.zip.\n",
            "       | Downloading package extended_omw to /root/nltk_data...\n",
            "       | Downloading package floresta to /root/nltk_data...\n",
            "       |   Unzipping corpora/floresta.zip.\n",
            "       | Downloading package framenet_v15 to /root/nltk_data...\n",
            "       |   Unzipping corpora/framenet_v15.zip.\n",
            "       | Downloading package framenet_v17 to /root/nltk_data...\n",
            "       |   Unzipping corpora/framenet_v17.zip.\n",
            "       | Downloading package gazetteers to /root/nltk_data...\n",
            "       |   Unzipping corpora/gazetteers.zip.\n",
            "       | Downloading package genesis to /root/nltk_data...\n",
            "       |   Unzipping corpora/genesis.zip.\n",
            "       | Downloading package gutenberg to /root/nltk_data...\n",
            "       |   Unzipping corpora/gutenberg.zip.\n",
            "       | Downloading package ieer to /root/nltk_data...\n",
            "       |   Unzipping corpora/ieer.zip.\n",
            "       | Downloading package inaugural to /root/nltk_data...\n",
            "       |   Unzipping corpora/inaugural.zip.\n",
            "       | Downloading package indian to /root/nltk_data...\n",
            "       |   Unzipping corpora/indian.zip.\n",
            "       | Downloading package jeita to /root/nltk_data...\n",
            "       | Downloading package kimmo to /root/nltk_data...\n",
            "       |   Unzipping corpora/kimmo.zip.\n",
            "       | Downloading package knbc to /root/nltk_data...\n",
            "       | Downloading package large_grammars to /root/nltk_data...\n",
            "       |   Unzipping grammars/large_grammars.zip.\n",
            "       | Downloading package lin_thesaurus to /root/nltk_data...\n",
            "       |   Unzipping corpora/lin_thesaurus.zip.\n",
            "       | Downloading package mac_morpho to /root/nltk_data...\n",
            "       |   Unzipping corpora/mac_morpho.zip.\n",
            "       | Downloading package machado to /root/nltk_data...\n",
            "       | Downloading package masc_tagged to /root/nltk_data...\n",
            "       | Downloading package maxent_ne_chunker to /root/nltk_data...\n",
            "       |   Unzipping chunkers/maxent_ne_chunker.zip.\n",
            "       | Downloading package maxent_treebank_pos_tagger to\n",
            "       |     /root/nltk_data...\n",
            "       |   Unzipping taggers/maxent_treebank_pos_tagger.zip.\n",
            "       | Downloading package moses_sample to /root/nltk_data...\n",
            "       |   Unzipping models/moses_sample.zip.\n",
            "       | Downloading package movie_reviews to /root/nltk_data...\n",
            "       |   Unzipping corpora/movie_reviews.zip.\n",
            "       | Downloading package mte_teip5 to /root/nltk_data...\n",
            "       |   Unzipping corpora/mte_teip5.zip.\n",
            "       | Downloading package mwa_ppdb to /root/nltk_data...\n",
            "       |   Unzipping misc/mwa_ppdb.zip.\n",
            "       | Downloading package names to /root/nltk_data...\n",
            "       |   Unzipping corpora/names.zip.\n",
            "       | Downloading package nombank.1.0 to /root/nltk_data...\n",
            "       | Downloading package nonbreaking_prefixes to\n",
            "       |     /root/nltk_data...\n",
            "       |   Unzipping corpora/nonbreaking_prefixes.zip.\n",
            "       | Downloading package nps_chat to /root/nltk_data...\n",
            "       |   Unzipping corpora/nps_chat.zip.\n",
            "       | Downloading package omw to /root/nltk_data...\n",
            "       | Downloading package omw-1.4 to /root/nltk_data...\n",
            "       | Downloading package opinion_lexicon to /root/nltk_data...\n",
            "       |   Unzipping corpora/opinion_lexicon.zip.\n",
            "       | Downloading package panlex_swadesh to /root/nltk_data...\n",
            "       | Downloading package paradigms to /root/nltk_data...\n",
            "       |   Unzipping corpora/paradigms.zip.\n",
            "       | Downloading package pe08 to /root/nltk_data...\n",
            "       |   Unzipping corpora/pe08.zip.\n",
            "       | Downloading package perluniprops to /root/nltk_data...\n",
            "       |   Unzipping misc/perluniprops.zip.\n",
            "       | Downloading package pil to /root/nltk_data...\n",
            "       |   Unzipping corpora/pil.zip.\n",
            "       | Downloading package pl196x to /root/nltk_data...\n",
            "       |   Unzipping corpora/pl196x.zip.\n",
            "       | Downloading package porter_test to /root/nltk_data...\n",
            "       |   Unzipping stemmers/porter_test.zip.\n",
            "       | Downloading package ppattach to /root/nltk_data...\n",
            "       |   Unzipping corpora/ppattach.zip.\n",
            "       | Downloading package problem_reports to /root/nltk_data...\n",
            "       |   Unzipping corpora/problem_reports.zip.\n",
            "       | Downloading package product_reviews_1 to /root/nltk_data...\n",
            "       |   Unzipping corpora/product_reviews_1.zip.\n",
            "       | Downloading package product_reviews_2 to /root/nltk_data...\n",
            "       |   Unzipping corpora/product_reviews_2.zip.\n",
            "       | Downloading package propbank to /root/nltk_data...\n",
            "       | Downloading package pros_cons to /root/nltk_data...\n",
            "       |   Unzipping corpora/pros_cons.zip.\n",
            "       | Downloading package ptb to /root/nltk_data...\n",
            "       |   Unzipping corpora/ptb.zip.\n",
            "       | Downloading package punkt to /root/nltk_data...\n",
            "       |   Unzipping tokenizers/punkt.zip.\n",
            "       | Downloading package qc to /root/nltk_data...\n",
            "       |   Unzipping corpora/qc.zip.\n",
            "       | Downloading package reuters to /root/nltk_data...\n",
            "       | Downloading package rslp to /root/nltk_data...\n",
            "       |   Unzipping stemmers/rslp.zip.\n",
            "       | Downloading package rte to /root/nltk_data...\n",
            "       |   Unzipping corpora/rte.zip.\n",
            "       | Downloading package sample_grammars to /root/nltk_data...\n",
            "       |   Unzipping grammars/sample_grammars.zip.\n",
            "       | Downloading package semcor to /root/nltk_data...\n",
            "       | Downloading package senseval to /root/nltk_data...\n",
            "       |   Unzipping corpora/senseval.zip.\n",
            "       | Downloading package sentence_polarity to /root/nltk_data...\n",
            "       |   Unzipping corpora/sentence_polarity.zip.\n",
            "       | Downloading package sentiwordnet to /root/nltk_data...\n",
            "       |   Unzipping corpora/sentiwordnet.zip.\n",
            "       | Downloading package shakespeare to /root/nltk_data...\n",
            "       |   Unzipping corpora/shakespeare.zip.\n",
            "       | Downloading package sinica_treebank to /root/nltk_data...\n",
            "       |   Unzipping corpora/sinica_treebank.zip.\n",
            "       | Downloading package smultron to /root/nltk_data...\n",
            "       |   Unzipping corpora/smultron.zip.\n",
            "       | Downloading package snowball_data to /root/nltk_data...\n",
            "       | Downloading package spanish_grammars to /root/nltk_data...\n",
            "       |   Unzipping grammars/spanish_grammars.zip.\n",
            "       | Downloading package state_union to /root/nltk_data...\n",
            "       |   Unzipping corpora/state_union.zip.\n",
            "       | Downloading package stopwords to /root/nltk_data...\n",
            "       |   Unzipping corpora/stopwords.zip.\n",
            "       | Downloading package subjectivity to /root/nltk_data...\n",
            "       |   Unzipping corpora/subjectivity.zip.\n",
            "       | Downloading package swadesh to /root/nltk_data...\n",
            "       |   Unzipping corpora/swadesh.zip.\n",
            "       | Downloading package switchboard to /root/nltk_data...\n",
            "       |   Unzipping corpora/switchboard.zip.\n",
            "       | Downloading package tagsets to /root/nltk_data...\n",
            "       |   Unzipping help/tagsets.zip.\n",
            "       | Downloading package timit to /root/nltk_data...\n",
            "       |   Unzipping corpora/timit.zip.\n",
            "       | Downloading package toolbox to /root/nltk_data...\n",
            "       |   Unzipping corpora/toolbox.zip.\n",
            "       | Downloading package treebank to /root/nltk_data...\n",
            "       |   Unzipping corpora/treebank.zip.\n",
            "       | Downloading package twitter_samples to /root/nltk_data...\n",
            "       |   Unzipping corpora/twitter_samples.zip.\n",
            "       | Downloading package udhr to /root/nltk_data...\n",
            "       |   Unzipping corpora/udhr.zip.\n",
            "       | Downloading package udhr2 to /root/nltk_data...\n",
            "       |   Unzipping corpora/udhr2.zip.\n",
            "       | Downloading package unicode_samples to /root/nltk_data...\n",
            "       |   Unzipping corpora/unicode_samples.zip.\n",
            "       | Downloading package universal_tagset to /root/nltk_data...\n",
            "       |   Unzipping taggers/universal_tagset.zip.\n",
            "       | Downloading package universal_treebanks_v20 to\n",
            "       |     /root/nltk_data...\n",
            "       | Downloading package vader_lexicon to /root/nltk_data...\n",
            "       | Downloading package verbnet to /root/nltk_data...\n",
            "       |   Unzipping corpora/verbnet.zip.\n",
            "       | Downloading package verbnet3 to /root/nltk_data...\n",
            "       |   Unzipping corpora/verbnet3.zip.\n",
            "       | Downloading package webtext to /root/nltk_data...\n",
            "       |   Unzipping corpora/webtext.zip.\n",
            "       | Downloading package wmt15_eval to /root/nltk_data...\n",
            "       |   Unzipping models/wmt15_eval.zip.\n",
            "       | Downloading package word2vec_sample to /root/nltk_data...\n",
            "       |   Unzipping models/word2vec_sample.zip.\n",
            "       | Downloading package wordnet to /root/nltk_data...\n",
            "       | Downloading package wordnet2021 to /root/nltk_data...\n",
            "       | Downloading package wordnet2022 to /root/nltk_data...\n",
            "       |   Unzipping corpora/wordnet2022.zip.\n",
            "       | Downloading package wordnet31 to /root/nltk_data...\n",
            "       | Downloading package wordnet_ic to /root/nltk_data...\n",
            "       |   Unzipping corpora/wordnet_ic.zip.\n",
            "       | Downloading package words to /root/nltk_data...\n",
            "       |   Unzipping corpora/words.zip.\n",
            "       | Downloading package ycoe to /root/nltk_data...\n",
            "       |   Unzipping corpora/ycoe.zip.\n",
            "       | \n",
            "     Done downloading collection all\n"
          ]
        },
        {
          "name": "stdout",
          "output_type": "stream",
          "text": [
            "\n",
            "---------------------------------------------------------------------------\n",
            "    d) Download   l) List    u) Update   c) Config   h) Help   q) Quit\n",
            "---------------------------------------------------------------------------\n",
            "Downloader> q\n"
          ]
        },
        {
          "output_type": "execute_result",
          "data": {
            "text/plain": [
              "True"
            ]
          },
          "metadata": {},
          "execution_count": 3
        }
      ]
    },
    {
      "cell_type": "code",
      "source": [
        "#Import necessary packages\n",
        "from nltk.corpus import gutenberg\n",
        "from nltk.corpus import wordnet\n",
        "from nltk.stem import PorterStemmer, WordNetLemmatizer\n",
        "from nltk import word_tokenize\n",
        "from string import punctuation\n",
        "from nltk.corpus import stopwords\n"
      ],
      "metadata": {
        "id": "yoydn_s72O3q"
      },
      "execution_count": null,
      "outputs": []
    },
    {
      "cell_type": "code",
      "source": [
        "#Function to attach POS tag letter as needed by wordnet lemmatizer\n",
        "def pos_tagger(word):\n",
        "    nltk_tag = nltk.pos_tag([word])[0][1][0]\n",
        "    if nltk_tag.startswith('J'):\n",
        "        return wordnet.ADJ\n",
        "    elif nltk_tag.startswith('V'):\n",
        "        return wordnet.VERB\n",
        "    elif nltk_tag.startswith('N'):\n",
        "        return wordnet.NOUN\n",
        "    elif nltk_tag.startswith('R'):\n",
        "        return wordnet.ADV\n",
        "    else:\n",
        "        return None"
      ],
      "metadata": {
        "id": "YTKRVPXYXtBe"
      },
      "execution_count": null,
      "outputs": []
    },
    {
      "cell_type": "code",
      "source": [
        "#Function to do basic preprocessing steps like lower casing, text tokenize, stop word removal, punctuation removal, stemming\n",
        "def text_preprocessing(corpus):\n",
        "    text_lower=corpus.lower()\n",
        "    text_tokenize= word_tokenize(text_lower)\n",
        "\n",
        "    #Creating list of common punctuation marks\n",
        "    punctuations= [\",\", \".\", \"!\",\"'\", \"-\", \"_\"]\n",
        "    #Remove punctuations\n",
        "    text_punc=[]\n",
        "    for word in text_tokenize:\n",
        "        if word not in punctuations:\n",
        "            text_punc.append(word)\n",
        "\n",
        "    #Stopword Removal\n",
        "    stopWords = set(stopwords.words('english'))\n",
        "    #Remove stop words\n",
        "    text_stop=[]\n",
        "    for word in text_punc:\n",
        "        if word not in stopWords:\n",
        "            text_stop.append(word)\n",
        "\n",
        "    #Apply stemming using porter stemmer\n",
        "    porter =PorterStemmer()\n",
        "    text_stem=[]\n",
        "    for word in text_stop:\n",
        "        text_stem.append(porter.stem(word))\n",
        "\n",
        "    #Apply lemmatization using wordnet lemmatizer on word after stop word removal\n",
        "    lemmatizer= WordNetLemmatizer()\n",
        "    text_lemma=[]\n",
        "    for word in text_stop:\n",
        "        tag= pos_tagger(word)\n",
        "        if tag==None:\n",
        "            text_lemma.append(lemmatizer.lemmatize(word))\n",
        "        else:\n",
        "            text_lemma.append(lemmatizer.lemmatize(word,tag))\n",
        "\n",
        "    return text_lower, text_tokenize, text_punc, text_stop, text_stem, text_lemma"
      ],
      "metadata": {
        "id": "leTB6hOcZGhF"
      },
      "execution_count": null,
      "outputs": []
    },
    {
      "cell_type": "code",
      "source": [
        "#Read a novel from gutenberg website\n",
        "from urllib import request\n",
        "url = \"https://www.gutenberg.org/cache/epub/42671/pg42671.txt\"\n",
        "response = request.urlopen(url)\n",
        "raw = response.read().decode('utf8')\n",
        "print(type(raw))\n",
        "print(raw[0:1000])"
      ],
      "metadata": {
        "colab": {
          "base_uri": "https://localhost:8080/"
        },
        "id": "PwoU-npucKn3",
        "outputId": "2dd7f374-78e0-4014-e1b5-8f8f10ad74a4"
      },
      "execution_count": null,
      "outputs": [
        {
          "output_type": "stream",
          "name": "stdout",
          "text": [
            "<class 'str'>\n",
            "﻿The Project Gutenberg eBook of Pride and Prejudice\r\n",
            "    \r\n",
            "This ebook is for the use of anyone anywhere in the United States and\r\n",
            "most other parts of the world at no cost and with almost no restrictions\r\n",
            "whatsoever. You may copy it, give it away or re-use it under the terms\r\n",
            "of the Project Gutenberg License included with this ebook or online\r\n",
            "at www.gutenberg.org. If you are not located in the United States,\r\n",
            "you will have to check the laws of the country where you are located\r\n",
            "before using this eBook.\r\n",
            "\r\n",
            "Title: Pride and Prejudice\r\n",
            "\r\n",
            "\r\n",
            "Author: Jane Austen\r\n",
            "\r\n",
            "Editor: R. W. Chapman\r\n",
            "\r\n",
            "Release date: May 9, 2013 [eBook #42671]\r\n",
            "\r\n",
            "Language: English\r\n",
            "\r\n",
            "\r\n",
            "\r\n",
            "*** START OF THE PROJECT GUTENBERG EBOOK PRIDE AND PREJUDICE ***\r\n",
            "\r\n",
            "E-text prepared by Greg Weeks, Jon Hurst, Mary Meehan, and the Online\r\n",
            "Distributed Proofreading Team (http://www.pgdp.net) from page images\r\n",
            "generously made available by Internet Archive (https://archive.org)\r\n",
            "\r\n",
            "\r\n",
            "\r\n",
            "Note: Project Gutenberg also has an HTML version of this\n"
          ]
        }
      ]
    },
    {
      "cell_type": "code",
      "source": [
        "#Python3 code to demonstrate working of\n",
        "# Word location in String\n",
        "# Using findall() + index()\n",
        "import re\n",
        "\n",
        "\n",
        "\n",
        "# initializing word\n",
        "word = 'CHAPTER'\n",
        "\n",
        "# Word location in String\n",
        "# Using findall() + index()\n",
        "test_str = raw.split()\n",
        "res = -1\n",
        "for idx in test_str:\n",
        "    if len(re.findall(word, idx)) > 0:\n",
        "        res = test_str.index(idx) + 1\n",
        "\n",
        "# printing result\n",
        "print(\"The location of word is : \" + str(res))"
      ],
      "metadata": {
        "colab": {
          "base_uri": "https://localhost:8080/"
        },
        "id": "A6TRWuANBVIO",
        "outputId": "8cfeace9-f6e3-4a0a-abcc-f64a643afa40"
      },
      "execution_count": null,
      "outputs": [
        {
          "output_type": "stream",
          "name": "stdout",
          "text": [
            "The location of word is : 263\n"
          ]
        }
      ]
    },
    {
      "cell_type": "code",
      "source": [
        "#To know how many chapters are there in the novel\n",
        "raw.count(\"CHAPTER\")"
      ],
      "metadata": {
        "id": "Bc5qU2rY2GJD",
        "colab": {
          "base_uri": "https://localhost:8080/"
        },
        "outputId": "ece14a64-5cb2-4d0c-a720-22ffaedd9bd5"
      },
      "execution_count": null,
      "outputs": [
        {
          "output_type": "execute_result",
          "data": {
            "text/plain": [
              "61"
            ]
          },
          "metadata": {},
          "execution_count": 10
        }
      ]
    },
    {
      "cell_type": "code",
      "source": [
        "#Convert string to list of words\n",
        "text_tokenize= word_tokenize(raw)\n",
        "punctuation=list(punctuation)\n",
        "#Remove punctuations\n",
        "text_punc=[]\n",
        "for word in text_tokenize:\n",
        "    if word not in punctuation:\n",
        "        text_punc.append(word)\n",
        "\n",
        "#Remove stop words\n",
        "stopwords = stopwords.words('english')\n",
        "text_stop=[]\n",
        "for word in text_punc:\n",
        "    if word not in stopwords:\n",
        "        text_stop.append(word)\n"
      ],
      "metadata": {
        "id": "nD0Zk0_5e4F4"
      },
      "execution_count": null,
      "outputs": []
    },
    {
      "cell_type": "code",
      "source": [
        "fdist1 = nltk.FreqDist(text_stop)\n",
        "\n",
        "print(len(fdist1))"
      ],
      "metadata": {
        "id": "-FAKK-w75XG_",
        "colab": {
          "base_uri": "https://localhost:8080/"
        },
        "outputId": "3fcfaed6-da40-40a0-ee4d-47ddf5aebb7f"
      },
      "execution_count": null,
      "outputs": [
        {
          "output_type": "stream",
          "name": "stdout",
          "text": [
            "7470\n"
          ]
        }
      ]
    },
    {
      "cell_type": "code",
      "source": [
        "fdist1"
      ],
      "metadata": {
        "colab": {
          "base_uri": "https://localhost:8080/"
        },
        "id": "f-W0s0n3EzlX",
        "outputId": "9fb11a8a-9985-4f40-a53c-cd2b7ed22d1d"
      },
      "execution_count": null,
      "outputs": [
        {
          "output_type": "execute_result",
          "data": {
            "text/plain": [
              "FreqDist({'I': 2052, \"''\": 1910, '``': 1618, 'Mr.': 745, '--': 651, 'Elizabeth': 632, \"'s\": 598, 'could': 512, 'would': 464, 'Darcy': 408, ...})"
            ]
          },
          "metadata": {},
          "execution_count": 13
        }
      ]
    },
    {
      "cell_type": "code",
      "source": [
        "fdistDict=dict(fdist1)"
      ],
      "metadata": {
        "id": "bOPNlDfq3_Vc"
      },
      "execution_count": null,
      "outputs": []
    },
    {
      "cell_type": "code",
      "source": [],
      "metadata": {
        "id": "EFbCkVgGEyUU"
      },
      "execution_count": null,
      "outputs": []
    },
    {
      "cell_type": "code",
      "source": [
        "len(fdistDict)"
      ],
      "metadata": {
        "colab": {
          "base_uri": "https://localhost:8080/"
        },
        "id": "2ZC70YP3EEfx",
        "outputId": "8689886f-1fb3-4311-9830-53d1fa362a61"
      },
      "execution_count": null,
      "outputs": [
        {
          "output_type": "execute_result",
          "data": {
            "text/plain": [
              "7470"
            ]
          },
          "metadata": {},
          "execution_count": 15
        }
      ]
    },
    {
      "cell_type": "code",
      "source": [
        "fdistDict100={}\n",
        "for key,value in fdistDict.items():\n",
        "  if value>200:\n",
        "    fdistDict100.update({key:value})"
      ],
      "metadata": {
        "id": "y-WZ5a_eEgOC"
      },
      "execution_count": null,
      "outputs": []
    },
    {
      "cell_type": "code",
      "source": [
        "print(len(fdistDict100))"
      ],
      "metadata": {
        "colab": {
          "base_uri": "https://localhost:8080/"
        },
        "id": "kEsM-B7xFGn4",
        "outputId": "2f62b517-eb7f-46a4-873a-c0c2a4cb507e"
      },
      "execution_count": null,
      "outputs": [
        {
          "output_type": "stream",
          "name": "stdout",
          "text": [
            "33\n"
          ]
        }
      ]
    },
    {
      "cell_type": "code",
      "source": [
        "fdistDict100"
      ],
      "metadata": {
        "colab": {
          "base_uri": "https://localhost:8080/"
        },
        "id": "I16D39qlFJvn",
        "outputId": "d2e39c63-fab1-4918-b712-1efbd40cde42"
      },
      "execution_count": null,
      "outputs": [
        {
          "output_type": "execute_result",
          "data": {
            "text/plain": [
              "{'You': 209,\n",
              " 'Jane': 288,\n",
              " \"'s\": 598,\n",
              " '``': 1618,\n",
              " \"''\": 1910,\n",
              " 'I': 2052,\n",
              " 'It': 250,\n",
              " 'must': 314,\n",
              " 'one': 281,\n",
              " 'Mr.': 745,\n",
              " 'Bennet': 320,\n",
              " 'said': 402,\n",
              " 'But': 320,\n",
              " 'Mrs.': 338,\n",
              " 'know': 235,\n",
              " 'much': 322,\n",
              " 'Bingley': 300,\n",
              " 'soon': 215,\n",
              " 'think': 210,\n",
              " 'would': 464,\n",
              " 'though': 212,\n",
              " 'She': 321,\n",
              " 'The': 282,\n",
              " 'He': 236,\n",
              " 'Elizabeth': 632,\n",
              " 'never': 213,\n",
              " 'time': 201,\n",
              " 'every': 264,\n",
              " 'could': 512,\n",
              " 'Darcy': 408,\n",
              " 'Miss': 281,\n",
              " '--': 651,\n",
              " 'sister': 210}"
            ]
          },
          "metadata": {},
          "execution_count": 18
        }
      ]
    },
    {
      "cell_type": "code",
      "source": [
        "import matplotlib.pyplot as plt\n",
        "names = list(fdistDict100.keys())\n",
        "values = list(fdistDict100.values())\n",
        "plt.figure(figsize=(10,10))\n",
        "plt.bar(range(len(fdistDict100)), values, tick_label=names)\n",
        "plt.xticks(rotation = 45)\n",
        "plt.show()"
      ],
      "metadata": {
        "colab": {
          "base_uri": "https://localhost:8080/",
          "height": 871
        },
        "id": "LnmnboWSFc_N",
        "outputId": "9426ae9b-e77f-40d8-c8df-e98f7fdd3c85"
      },
      "execution_count": null,
      "outputs": [
        {
          "output_type": "display_data",
          "data": {
            "text/plain": [
              "<Figure size 1000x1000 with 1 Axes>"
            ],
            "image/png": "[encoded data removed]"
          },
          "metadata": {}
        }
      ]
    },
    {
      "cell_type": "code",
      "source": [
        "#Total words in the book\n",
        "\n",
        "total_words=len(raw.split())\n",
        "print(total_words)"
      ],
      "metadata": {
        "id": "NwObgiSFF6kY",
        "colab": {
          "base_uri": "https://localhost:8080/"
        },
        "outputId": "57799ab5-8ae1-4b28-f56f-dff758e74e03"
      },
      "execution_count": null,
      "outputs": [
        {
          "output_type": "stream",
          "name": "stdout",
          "text": [
            "125007\n"
          ]
        }
      ]
    },
    {
      "cell_type": "code",
      "source": [
        "#Total chapters in the book\n",
        "total_chapters=raw.count(\"CHAPTER\")\n",
        "print(total_chapters)"
      ],
      "metadata": {
        "colab": {
          "base_uri": "https://localhost:8080/"
        },
        "id": "cz39xuZpFUGv",
        "outputId": "875469e2-b109-4dce-9947-67d05fb2625d"
      },
      "execution_count": null,
      "outputs": [
        {
          "output_type": "stream",
          "name": "stdout",
          "text": [
            "61\n"
          ]
        }
      ]
    },
    {
      "cell_type": "code",
      "source": [
        "#Averge chapter length\n",
        "avg_chap_words= total_words/total_chapters\n",
        "print(avg_chap_words)"
      ],
      "metadata": {
        "colab": {
          "base_uri": "https://localhost:8080/"
        },
        "id": "cTMBW_l2Fk4m",
        "outputId": "d66eba2a-daad-4c82-83ad-38540184cec6"
      },
      "execution_count": null,
      "outputs": [
        {
          "output_type": "stream",
          "name": "stdout",
          "text": [
            "2049.2950819672133\n"
          ]
        }
      ]
    },
    {
      "cell_type": "code",
      "source": [
        "#Find ngrams\n",
        "\n"
      ],
      "metadata": {
        "colab": {
          "base_uri": "https://localhost:8080/"
        },
        "id": "1UVt3eYEF95G",
        "outputId": "af60152d-53e8-4319-9ca8-3c1b9127e6b3"
      },
      "execution_count": null,
      "outputs": [
        {
          "output_type": "execute_result",
          "data": {
            "text/plain": [
              "<zip at 0x7c08c3f12740>"
            ]
          },
          "metadata": {},
          "execution_count": 26
        }
      ]
    },
    {
      "cell_type": "code",
      "source": [
        "## using count vectorizer\n",
        "import pandas as pd\n",
        "from sklearn.feature_extraction.text import CountVectorizer\n"
      ],
      "metadata": {
        "id": "6KkKbBeEGaRW"
      },
      "execution_count": null,
      "outputs": []
    },
    {
      "cell_type": "code",
      "source": [
        "text=\"Good morning Mumbai. Good Morning India\"\n",
        "coun_vect = CountVectorizer()\n",
        "count_matrix = coun_vect.fit_transform([text])"
      ],
      "metadata": {
        "id": "7mmo7Igvw819"
      },
      "execution_count": null,
      "outputs": []
    },
    {
      "cell_type": "code",
      "source": [
        "count_array = count_matrix.toarray()"
      ],
      "metadata": {
        "id": "0cuRqUjLxPrB"
      },
      "execution_count": null,
      "outputs": []
    },
    {
      "cell_type": "code",
      "source": [
        "count_array"
      ],
      "metadata": {
        "colab": {
          "base_uri": "https://localhost:8080/"
        },
        "id": "G-CTiHM0xgE8",
        "outputId": "8d34c1f7-9b5d-477a-9e3f-de3273e5789c"
      },
      "execution_count": null,
      "outputs": [
        {
          "output_type": "execute_result",
          "data": {
            "text/plain": [
              "array([[2, 1, 2, 1]])"
            ]
          },
          "metadata": {},
          "execution_count": 8
        }
      ]
    },
    {
      "cell_type": "code",
      "source": [
        "coun_vect.get_feature_names_out()"
      ],
      "metadata": {
        "colab": {
          "base_uri": "https://localhost:8080/"
        },
        "id": "ylZM9SF1xq1h",
        "outputId": "56374344-8c16-44a0-8c39-8ae6f6b5922a"
      },
      "execution_count": null,
      "outputs": [
        {
          "output_type": "execute_result",
          "data": {
            "text/plain": [
              "array(['good', 'india', 'morning', 'mumbai'], dtype=object)"
            ]
          },
          "metadata": {},
          "execution_count": 11
        }
      ]
    },
    {
      "cell_type": "code",
      "source": [],
      "metadata": {
        "id": "K0pro9H2x6gZ"
      },
      "execution_count": null,
      "outputs": []
    }
  ]
}