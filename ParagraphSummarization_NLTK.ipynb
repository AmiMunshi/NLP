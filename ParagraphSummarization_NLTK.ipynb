{
  "nbformat": 4,
  "nbformat_minor": 0,
  "metadata": {
    "colab": {
      "provenance": []
    },
    "kernelspec": {
      "name": "python3",
      "display_name": "Python 3"
    },
    "language_info": {
      "name": "python"
    }
  },
  "cells": [
    {
      "cell_type": "markdown",
      "source": [
        "Ref: https://towardsdatascience.com/text-summarization-using-tf-idf-e64a0644ace3"
      ],
      "metadata": {
        "id": "Y1sD77dlX9ay"
      }
    },
    {
      "cell_type": "code",
      "execution_count": 2,
      "metadata": {
        "colab": {
          "base_uri": "https://localhost:8080/"
        },
        "id": "zRzRF0-eMrRt",
        "outputId": "a6e8ec20-bd1d-471f-bbba-ec692bb7cce0"
      },
      "outputs": [
        {
          "output_type": "stream",
          "name": "stdout",
          "text": [
            "Requirement already satisfied: nltk in /usr/local/lib/python3.10/dist-packages (3.8.1)\n",
            "Requirement already satisfied: click in /usr/local/lib/python3.10/dist-packages (from nltk) (8.1.7)\n",
            "Requirement already satisfied: joblib in /usr/local/lib/python3.10/dist-packages (from nltk) (1.3.2)\n",
            "Requirement already satisfied: regex>=2021.8.3 in /usr/local/lib/python3.10/dist-packages (from nltk) (2023.6.3)\n",
            "Requirement already satisfied: tqdm in /usr/local/lib/python3.10/dist-packages (from nltk) (4.66.1)\n"
          ]
        }
      ],
      "source": [
        "!pip install nltk\n"
      ]
    },
    {
      "cell_type": "code",
      "source": [
        "import nltk\n",
        "nltk.download()"
      ],
      "metadata": {
        "colab": {
          "base_uri": "https://localhost:8080/"
        },
        "id": "FSfvfaPcNWxS",
        "outputId": "5baa4f12-0277-4c4c-94b4-c164faa82025"
      },
      "execution_count": 3,
      "outputs": [
        {
          "name": "stdout",
          "output_type": "stream",
          "text": [
            "NLTK Downloader\n",
            "---------------------------------------------------------------------------\n",
            "    d) Download   l) List    u) Update   c) Config   h) Help   q) Quit\n",
            "---------------------------------------------------------------------------\n",
            "Downloader> d\n",
            "\n",
            "Download which package (l=list; x=cancel)?\n",
            "  Identifier> all\n"
          ]
        },
        {
          "output_type": "stream",
          "name": "stderr",
          "text": [
            "    Downloading collection 'all'\n",
            "       | \n",
            "       | Downloading package abc to /root/nltk_data...\n",
            "       |   Unzipping corpora/abc.zip.\n",
            "       | Downloading package alpino to /root/nltk_data...\n",
            "       |   Unzipping corpora/alpino.zip.\n",
            "       | Downloading package averaged_perceptron_tagger to\n",
            "       |     /root/nltk_data...\n",
            "       |   Unzipping taggers/averaged_perceptron_tagger.zip.\n",
            "       | Downloading package averaged_perceptron_tagger_ru to\n",
            "       |     /root/nltk_data...\n",
            "       |   Unzipping taggers/averaged_perceptron_tagger_ru.zip.\n",
            "       | Downloading package basque_grammars to /root/nltk_data...\n",
            "       |   Unzipping grammars/basque_grammars.zip.\n",
            "       | Downloading package bcp47 to /root/nltk_data...\n",
            "       | Downloading package biocreative_ppi to /root/nltk_data...\n",
            "       |   Unzipping corpora/biocreative_ppi.zip.\n",
            "       | Downloading package bllip_wsj_no_aux to /root/nltk_data...\n",
            "       |   Unzipping models/bllip_wsj_no_aux.zip.\n",
            "       | Downloading package book_grammars to /root/nltk_data...\n",
            "       |   Unzipping grammars/book_grammars.zip.\n",
            "       | Downloading package brown to /root/nltk_data...\n",
            "       |   Unzipping corpora/brown.zip.\n",
            "       | Downloading package brown_tei to /root/nltk_data...\n",
            "       |   Unzipping corpora/brown_tei.zip.\n",
            "       | Downloading package cess_cat to /root/nltk_data...\n",
            "       |   Unzipping corpora/cess_cat.zip.\n",
            "       | Downloading package cess_esp to /root/nltk_data...\n",
            "       |   Unzipping corpora/cess_esp.zip.\n",
            "       | Downloading package chat80 to /root/nltk_data...\n",
            "       |   Unzipping corpora/chat80.zip.\n",
            "       | Downloading package city_database to /root/nltk_data...\n",
            "       |   Unzipping corpora/city_database.zip.\n",
            "       | Downloading package cmudict to /root/nltk_data...\n",
            "       |   Unzipping corpora/cmudict.zip.\n",
            "       | Downloading package comparative_sentences to\n",
            "       |     /root/nltk_data...\n",
            "       |   Unzipping corpora/comparative_sentences.zip.\n",
            "       | Downloading package comtrans to /root/nltk_data...\n",
            "       | Downloading package conll2000 to /root/nltk_data...\n",
            "       |   Unzipping corpora/conll2000.zip.\n",
            "       | Downloading package conll2002 to /root/nltk_data...\n",
            "       |   Unzipping corpora/conll2002.zip.\n",
            "       | Downloading package conll2007 to /root/nltk_data...\n",
            "       | Downloading package crubadan to /root/nltk_data...\n",
            "       |   Unzipping corpora/crubadan.zip.\n",
            "       | Downloading package dependency_treebank to /root/nltk_data...\n",
            "       |   Unzipping corpora/dependency_treebank.zip.\n",
            "       | Downloading package dolch to /root/nltk_data...\n",
            "       |   Unzipping corpora/dolch.zip.\n",
            "       | Downloading package europarl_raw to /root/nltk_data...\n",
            "       |   Unzipping corpora/europarl_raw.zip.\n",
            "       | Downloading package extended_omw to /root/nltk_data...\n",
            "       | Downloading package floresta to /root/nltk_data...\n",
            "       |   Unzipping corpora/floresta.zip.\n",
            "       | Downloading package framenet_v15 to /root/nltk_data...\n",
            "       |   Unzipping corpora/framenet_v15.zip.\n",
            "       | Downloading package framenet_v17 to /root/nltk_data...\n",
            "       |   Unzipping corpora/framenet_v17.zip.\n",
            "       | Downloading package gazetteers to /root/nltk_data...\n",
            "       |   Unzipping corpora/gazetteers.zip.\n",
            "       | Downloading package genesis to /root/nltk_data...\n",
            "       |   Unzipping corpora/genesis.zip.\n",
            "       | Downloading package gutenberg to /root/nltk_data...\n",
            "       |   Unzipping corpora/gutenberg.zip.\n",
            "       | Downloading package ieer to /root/nltk_data...\n",
            "       |   Unzipping corpora/ieer.zip.\n",
            "       | Downloading package inaugural to /root/nltk_data...\n",
            "       |   Unzipping corpora/inaugural.zip.\n",
            "       | Downloading package indian to /root/nltk_data...\n",
            "       |   Unzipping corpora/indian.zip.\n",
            "       | Downloading package jeita to /root/nltk_data...\n",
            "       | Downloading package kimmo to /root/nltk_data...\n",
            "       |   Unzipping corpora/kimmo.zip.\n",
            "       | Downloading package knbc to /root/nltk_data...\n",
            "       | Downloading package large_grammars to /root/nltk_data...\n",
            "       |   Unzipping grammars/large_grammars.zip.\n",
            "       | Downloading package lin_thesaurus to /root/nltk_data...\n",
            "       |   Unzipping corpora/lin_thesaurus.zip.\n",
            "       | Downloading package mac_morpho to /root/nltk_data...\n",
            "       |   Unzipping corpora/mac_morpho.zip.\n",
            "       | Downloading package machado to /root/nltk_data...\n",
            "       | Downloading package masc_tagged to /root/nltk_data...\n",
            "       | Downloading package maxent_ne_chunker to /root/nltk_data...\n",
            "       |   Unzipping chunkers/maxent_ne_chunker.zip.\n",
            "       | Downloading package maxent_treebank_pos_tagger to\n",
            "       |     /root/nltk_data...\n",
            "       |   Unzipping taggers/maxent_treebank_pos_tagger.zip.\n",
            "       | Downloading package moses_sample to /root/nltk_data...\n",
            "       |   Unzipping models/moses_sample.zip.\n",
            "       | Downloading package movie_reviews to /root/nltk_data...\n",
            "       |   Unzipping corpora/movie_reviews.zip.\n",
            "       | Downloading package mte_teip5 to /root/nltk_data...\n",
            "       |   Unzipping corpora/mte_teip5.zip.\n",
            "       | Downloading package mwa_ppdb to /root/nltk_data...\n",
            "       |   Unzipping misc/mwa_ppdb.zip.\n",
            "       | Downloading package names to /root/nltk_data...\n",
            "       |   Unzipping corpora/names.zip.\n",
            "       | Downloading package nombank.1.0 to /root/nltk_data...\n",
            "       | Downloading package nonbreaking_prefixes to\n",
            "       |     /root/nltk_data...\n",
            "       |   Unzipping corpora/nonbreaking_prefixes.zip.\n",
            "       | Downloading package nps_chat to /root/nltk_data...\n",
            "       |   Unzipping corpora/nps_chat.zip.\n",
            "       | Downloading package omw to /root/nltk_data...\n",
            "       | Downloading package omw-1.4 to /root/nltk_data...\n",
            "       | Downloading package opinion_lexicon to /root/nltk_data...\n",
            "       |   Unzipping corpora/opinion_lexicon.zip.\n",
            "       | Downloading package panlex_swadesh to /root/nltk_data...\n",
            "       | Downloading package paradigms to /root/nltk_data...\n",
            "       |   Unzipping corpora/paradigms.zip.\n",
            "       | Downloading package pe08 to /root/nltk_data...\n",
            "       |   Unzipping corpora/pe08.zip.\n",
            "       | Downloading package perluniprops to /root/nltk_data...\n",
            "       |   Unzipping misc/perluniprops.zip.\n",
            "       | Downloading package pil to /root/nltk_data...\n",
            "       |   Unzipping corpora/pil.zip.\n",
            "       | Downloading package pl196x to /root/nltk_data...\n",
            "       |   Unzipping corpora/pl196x.zip.\n",
            "       | Downloading package porter_test to /root/nltk_data...\n",
            "       |   Unzipping stemmers/porter_test.zip.\n",
            "       | Downloading package ppattach to /root/nltk_data...\n",
            "       |   Unzipping corpora/ppattach.zip.\n",
            "       | Downloading package problem_reports to /root/nltk_data...\n",
            "       |   Unzipping corpora/problem_reports.zip.\n",
            "       | Downloading package product_reviews_1 to /root/nltk_data...\n",
            "       |   Unzipping corpora/product_reviews_1.zip.\n",
            "       | Downloading package product_reviews_2 to /root/nltk_data...\n",
            "       |   Unzipping corpora/product_reviews_2.zip.\n",
            "       | Downloading package propbank to /root/nltk_data...\n",
            "       | Downloading package pros_cons to /root/nltk_data...\n",
            "       |   Unzipping corpora/pros_cons.zip.\n",
            "       | Downloading package ptb to /root/nltk_data...\n",
            "       |   Unzipping corpora/ptb.zip.\n",
            "       | Downloading package punkt to /root/nltk_data...\n",
            "       |   Unzipping tokenizers/punkt.zip.\n",
            "       | Downloading package qc to /root/nltk_data...\n",
            "       |   Unzipping corpora/qc.zip.\n",
            "       | Downloading package reuters to /root/nltk_data...\n",
            "       | Downloading package rslp to /root/nltk_data...\n",
            "       |   Unzipping stemmers/rslp.zip.\n",
            "       | Downloading package rte to /root/nltk_data...\n",
            "       |   Unzipping corpora/rte.zip.\n",
            "       | Downloading package sample_grammars to /root/nltk_data...\n",
            "       |   Unzipping grammars/sample_grammars.zip.\n",
            "       | Downloading package semcor to /root/nltk_data...\n",
            "       | Downloading package senseval to /root/nltk_data...\n",
            "       |   Unzipping corpora/senseval.zip.\n",
            "       | Downloading package sentence_polarity to /root/nltk_data...\n",
            "       |   Unzipping corpora/sentence_polarity.zip.\n",
            "       | Downloading package sentiwordnet to /root/nltk_data...\n",
            "       |   Unzipping corpora/sentiwordnet.zip.\n",
            "       | Downloading package shakespeare to /root/nltk_data...\n",
            "       |   Unzipping corpora/shakespeare.zip.\n",
            "       | Downloading package sinica_treebank to /root/nltk_data...\n",
            "       |   Unzipping corpora/sinica_treebank.zip.\n",
            "       | Downloading package smultron to /root/nltk_data...\n",
            "       |   Unzipping corpora/smultron.zip.\n",
            "       | Downloading package snowball_data to /root/nltk_data...\n",
            "       | Downloading package spanish_grammars to /root/nltk_data...\n",
            "       |   Unzipping grammars/spanish_grammars.zip.\n",
            "       | Downloading package state_union to /root/nltk_data...\n",
            "       |   Unzipping corpora/state_union.zip.\n",
            "       | Downloading package stopwords to /root/nltk_data...\n",
            "       |   Unzipping corpora/stopwords.zip.\n",
            "       | Downloading package subjectivity to /root/nltk_data...\n",
            "       |   Unzipping corpora/subjectivity.zip.\n",
            "       | Downloading package swadesh to /root/nltk_data...\n",
            "       |   Unzipping corpora/swadesh.zip.\n",
            "       | Downloading package switchboard to /root/nltk_data...\n",
            "       |   Unzipping corpora/switchboard.zip.\n",
            "       | Downloading package tagsets to /root/nltk_data...\n",
            "       |   Unzipping help/tagsets.zip.\n",
            "       | Downloading package timit to /root/nltk_data...\n",
            "       |   Unzipping corpora/timit.zip.\n",
            "       | Downloading package toolbox to /root/nltk_data...\n",
            "       |   Unzipping corpora/toolbox.zip.\n",
            "       | Downloading package treebank to /root/nltk_data...\n",
            "       |   Unzipping corpora/treebank.zip.\n",
            "       | Downloading package twitter_samples to /root/nltk_data...\n",
            "       |   Unzipping corpora/twitter_samples.zip.\n",
            "       | Downloading package udhr to /root/nltk_data...\n",
            "       |   Unzipping corpora/udhr.zip.\n",
            "       | Downloading package udhr2 to /root/nltk_data...\n",
            "       |   Unzipping corpora/udhr2.zip.\n",
            "       | Downloading package unicode_samples to /root/nltk_data...\n",
            "       |   Unzipping corpora/unicode_samples.zip.\n",
            "       | Downloading package universal_tagset to /root/nltk_data...\n",
            "       |   Unzipping taggers/universal_tagset.zip.\n",
            "       | Downloading package universal_treebanks_v20 to\n",
            "       |     /root/nltk_data...\n",
            "       | Downloading package vader_lexicon to /root/nltk_data...\n",
            "       | Downloading package verbnet to /root/nltk_data...\n",
            "       |   Unzipping corpora/verbnet.zip.\n",
            "       | Downloading package verbnet3 to /root/nltk_data...\n",
            "       |   Unzipping corpora/verbnet3.zip.\n",
            "       | Downloading package webtext to /root/nltk_data...\n",
            "       |   Unzipping corpora/webtext.zip.\n",
            "       | Downloading package wmt15_eval to /root/nltk_data...\n",
            "       |   Unzipping models/wmt15_eval.zip.\n",
            "       | Downloading package word2vec_sample to /root/nltk_data...\n",
            "       |   Unzipping models/word2vec_sample.zip.\n",
            "       | Downloading package wordnet to /root/nltk_data...\n",
            "       | Downloading package wordnet2021 to /root/nltk_data...\n",
            "       | Downloading package wordnet2022 to /root/nltk_data...\n",
            "       |   Unzipping corpora/wordnet2022.zip.\n",
            "       | Downloading package wordnet31 to /root/nltk_data...\n",
            "       | Downloading package wordnet_ic to /root/nltk_data...\n",
            "       |   Unzipping corpora/wordnet_ic.zip.\n",
            "       | Downloading package words to /root/nltk_data...\n",
            "       |   Unzipping corpora/words.zip.\n",
            "       | Downloading package ycoe to /root/nltk_data...\n",
            "       |   Unzipping corpora/ycoe.zip.\n",
            "       | \n",
            "     Done downloading collection all\n"
          ]
        },
        {
          "name": "stdout",
          "output_type": "stream",
          "text": [
            "\n",
            "---------------------------------------------------------------------------\n",
            "    d) Download   l) List    u) Update   c) Config   h) Help   q) Quit\n",
            "---------------------------------------------------------------------------\n",
            "Downloader> q\n"
          ]
        },
        {
          "output_type": "execute_result",
          "data": {
            "text/plain": [
              "True"
            ]
          },
          "metadata": {},
          "execution_count": 3
        }
      ]
    },
    {
      "cell_type": "code",
      "source": [
        "from nltk import sent_tokenize, word_tokenize\n",
        "from nltk.corpus import stopwords\n",
        "from string import punctuation\n",
        "from nltk.probability import FreqDist\n",
        "from nltk.stem import PorterStemmer\n",
        "from nltk.stem.wordnet import WordNetLemmatizer\n",
        "import math"
      ],
      "metadata": {
        "id": "aiZyom8hOOCs"
      },
      "execution_count": 43,
      "outputs": []
    },
    {
      "cell_type": "code",
      "source": [
        "def _create_frequency_matrix(sentences):\n",
        "    frequency_matrix = {}\n",
        "    stopWords = set(stopwords.words(\"english\"))\n",
        "    ps = PorterStemmer()\n",
        "\n",
        "    for sent in sentences:\n",
        "        freq_table = {}\n",
        "        words = word_tokenize(sent)\n",
        "        for word in words:\n",
        "            word = word.lower()\n",
        "            word = ps.stem(word)\n",
        "            if word in stopWords:\n",
        "                continue\n",
        "\n",
        "            if word in freq_table:\n",
        "                freq_table[word] += 1\n",
        "            else:\n",
        "                freq_table[word] = 1\n",
        "\n",
        "        frequency_matrix[sent[:]] = freq_table\n",
        "\n",
        "    return frequency_matrix"
      ],
      "metadata": {
        "id": "Bwn7e6ddNcYa"
      },
      "execution_count": 24,
      "outputs": []
    },
    {
      "cell_type": "code",
      "source": [
        "para= \"My thanks, also, to some of the speakers on this platform who, referring to the delegates from the Orient, have told you that these men from far-off nations may well claim the honor of bearing to different lands the idea of toleration. I am proud to belong to a religion which has taught the world both tolerance and universal acceptance. We believe not only in universal toleration, but we accept all religions as true. I am proud to belong to a nation which has sheltered the persecuted and the refugees of all religions and all nations of the earth. I am proud to tell you that we have gathered in our bosom the purest remnant of the Israelites, who came to Southern India and took refuge with us in the very year in which their holy temple was shat­tered to pieces by Roman tyranny. I am proud to belong to the religion which has sheltered and is still fostering the remnant of the grand Zoroastrian nation. I will quote to you, brethren, a few lines from a hymn which I remember to have repeated from my earliest boyhood, which is every day repeated by millions of human beings: “As the different streams having their sources in different paths which men take through different tendencies, various though they appear, crooked or straight, all lead to Thee.”\""
      ],
      "metadata": {
        "id": "zOtVoCn_P0jL"
      },
      "execution_count": 25,
      "outputs": []
    },
    {
      "cell_type": "code",
      "source": [
        "len(para)"
      ],
      "metadata": {
        "colab": {
          "base_uri": "https://localhost:8080/"
        },
        "id": "rmnBQKcIedEz",
        "outputId": "a3ad8096-24d7-4fde-a5a2-1c35547fabeb"
      },
      "execution_count": 70,
      "outputs": [
        {
          "output_type": "execute_result",
          "data": {
            "text/plain": [
              "1262"
            ]
          },
          "metadata": {},
          "execution_count": 70
        }
      ]
    },
    {
      "cell_type": "code",
      "source": [
        "sentences = sent_tokenize(para)\n",
        "total_documents = len(sentences)\n",
        "freq_matrix=_create_frequency_matrix(sentences)"
      ],
      "metadata": {
        "id": "_ZNY51nTQH_s"
      },
      "execution_count": 26,
      "outputs": []
    },
    {
      "cell_type": "code",
      "source": [
        "#freq_matrix"
      ],
      "metadata": {
        "id": "OBXQ707iZQB5"
      },
      "execution_count": 37,
      "outputs": []
    },
    {
      "cell_type": "code",
      "source": [
        "#Create TFIDF matrix\n",
        "def tf_matrix(freq_matrix):\n",
        "    tfMatrix = {}\n",
        "\n",
        "    for sent, f_table in freq_matrix.items():\n",
        "        tf_table = {}\n",
        "\n",
        "        count_words_in_sentence = len(f_table)\n",
        "        for word, count in f_table.items():\n",
        "            tf_table[word] = count / count_words_in_sentence\n",
        "\n",
        "        tfMatrix[sent] = tf_table\n",
        "    #print(tf_table)\n",
        "    return tfMatrix"
      ],
      "metadata": {
        "id": "FvKWz0iXX49y"
      },
      "execution_count": 33,
      "outputs": []
    },
    {
      "cell_type": "code",
      "source": [
        "tfMatrix=tf_matrix(freq_matrix)\n",
        "print(tfMatrix)"
      ],
      "metadata": {
        "colab": {
          "base_uri": "https://localhost:8080/"
        },
        "id": "kvs8Jf8RY5Ob",
        "outputId": "73c818c0-5d60-404b-a95e-2578ff3c545c"
      },
      "execution_count": 34,
      "outputs": [
        {
          "output_type": "stream",
          "name": "stdout",
          "text": [
            "{'My thanks, also, to some of the speakers on this platform who, referring to the delegates from the Orient, have told you that these men from far-off nations may well claim the honor of bearing to different lands the idea of toleration.': {'thank': 0.043478260869565216, ',': 0.17391304347826086, 'also': 0.043478260869565216, 'speaker': 0.043478260869565216, 'thi': 0.043478260869565216, 'platform': 0.043478260869565216, 'refer': 0.043478260869565216, 'deleg': 0.043478260869565216, 'orient': 0.043478260869565216, 'told': 0.043478260869565216, 'men': 0.043478260869565216, 'far-off': 0.043478260869565216, 'nation': 0.043478260869565216, 'may': 0.043478260869565216, 'well': 0.043478260869565216, 'claim': 0.043478260869565216, 'honor': 0.043478260869565216, 'bear': 0.043478260869565216, 'differ': 0.043478260869565216, 'land': 0.043478260869565216, 'idea': 0.043478260869565216, 'toler': 0.043478260869565216, '.': 0.043478260869565216}, 'I am proud to belong to a religion which has taught the world both tolerance and universal acceptance.': {'proud': 0.1, 'belong': 0.1, 'religion': 0.1, 'ha': 0.1, 'taught': 0.1, 'world': 0.1, 'toler': 0.1, 'univers': 0.1, 'accept': 0.1, '.': 0.1}, 'We believe not only in universal toleration, but we accept all religions as true.': {'believ': 0.1111111111111111, 'onli': 0.1111111111111111, 'univers': 0.1111111111111111, 'toler': 0.1111111111111111, ',': 0.1111111111111111, 'accept': 0.1111111111111111, 'religion': 0.1111111111111111, 'true': 0.1111111111111111, '.': 0.1111111111111111}, 'I am proud to belong to a nation which has sheltered the persecuted and the refugees of all religions and all nations of the earth.': {'proud': 0.1, 'belong': 0.1, 'nation': 0.2, 'ha': 0.1, 'shelter': 0.1, 'persecut': 0.1, 'refuge': 0.1, 'religion': 0.1, 'earth': 0.1, '.': 0.1}, 'I am proud to tell you that we have gathered in our bosom the purest remnant of the Israelites, who came to Southern India and took refuge with us in the very year in which their holy temple was shat\\xadtered to pieces by Roman tyranny.': {'proud': 0.041666666666666664, 'tell': 0.041666666666666664, 'gather': 0.041666666666666664, 'bosom': 0.041666666666666664, 'purest': 0.041666666666666664, 'remnant': 0.041666666666666664, 'israelit': 0.041666666666666664, ',': 0.041666666666666664, 'came': 0.041666666666666664, 'southern': 0.041666666666666664, 'india': 0.041666666666666664, 'took': 0.041666666666666664, 'refug': 0.041666666666666664, 'us': 0.041666666666666664, 'veri': 0.041666666666666664, 'year': 0.041666666666666664, 'holi': 0.041666666666666664, 'templ': 0.041666666666666664, 'wa': 0.041666666666666664, 'shat\\xadter': 0.041666666666666664, 'piec': 0.041666666666666664, 'roman': 0.041666666666666664, 'tyranni': 0.041666666666666664, '.': 0.041666666666666664}, 'I am proud to belong to the religion which has sheltered and is still fostering the remnant of the grand Zoroastrian nation.': {'proud': 0.08333333333333333, 'belong': 0.08333333333333333, 'religion': 0.08333333333333333, 'ha': 0.08333333333333333, 'shelter': 0.08333333333333333, 'still': 0.08333333333333333, 'foster': 0.08333333333333333, 'remnant': 0.08333333333333333, 'grand': 0.08333333333333333, 'zoroastrian': 0.08333333333333333, 'nation': 0.08333333333333333, '.': 0.08333333333333333}, 'I will quote to you, brethren, a few lines from a hymn which I remember to have repeated from my earliest boyhood, which is every day repeated by millions of human beings: “As the different streams having their sources in different paths which men take through different tendencies, various though they appear, crooked or straight, all lead to Thee.”': {'quot': 0.03225806451612903, ',': 0.1935483870967742, 'brethren': 0.03225806451612903, 'line': 0.03225806451612903, 'hymn': 0.03225806451612903, 'rememb': 0.03225806451612903, 'repeat': 0.06451612903225806, 'earliest': 0.03225806451612903, 'boyhood': 0.03225806451612903, 'everi': 0.03225806451612903, 'day': 0.03225806451612903, 'million': 0.03225806451612903, 'human': 0.03225806451612903, ':': 0.03225806451612903, '“': 0.03225806451612903, 'differ': 0.0967741935483871, 'stream': 0.03225806451612903, 'sourc': 0.03225806451612903, 'path': 0.03225806451612903, 'men': 0.03225806451612903, 'take': 0.03225806451612903, 'tendenc': 0.03225806451612903, 'variou': 0.03225806451612903, 'though': 0.03225806451612903, 'appear': 0.03225806451612903, 'crook': 0.03225806451612903, 'straight': 0.03225806451612903, 'lead': 0.03225806451612903, 'thee': 0.03225806451612903, '.': 0.03225806451612903, '”': 0.03225806451612903}}\n"
          ]
        }
      ]
    },
    {
      "cell_type": "code",
      "source": [
        "def _create_documents_per_words(freq_matrix):\n",
        "    word_per_doc_table = {}\n",
        "\n",
        "    for sent, f_table in freq_matrix.items():\n",
        "        for word, count in f_table.items():\n",
        "            if word in word_per_doc_table:\n",
        "                word_per_doc_table[word] += 1\n",
        "            else:\n",
        "                word_per_doc_table[word] = 1\n",
        "\n",
        "    return word_per_doc_table"
      ],
      "metadata": {
        "id": "ydn1D5pgZbx3"
      },
      "execution_count": 35,
      "outputs": []
    },
    {
      "cell_type": "code",
      "source": [
        "count_doc_per_words=_create_documents_per_words(freq_matrix)"
      ],
      "metadata": {
        "id": "dO9V39UPcHtk"
      },
      "execution_count": 40,
      "outputs": []
    },
    {
      "cell_type": "code",
      "source": [
        "def _create_idf_matrix(freq_matrix, count_doc_per_words, total_documents):\n",
        "    idf_matrix = {}\n",
        "\n",
        "    for sent, f_table in freq_matrix.items():\n",
        "        idf_table = {}\n",
        "\n",
        "        for word in f_table.keys():\n",
        "            idf_table[word] = math.log10(total_documents / float(count_doc_per_words[word]))\n",
        "\n",
        "        idf_matrix[sent] = idf_table\n",
        "\n",
        "    return idf_matrix"
      ],
      "metadata": {
        "id": "t7DLyOaLcMZk"
      },
      "execution_count": 44,
      "outputs": []
    },
    {
      "cell_type": "code",
      "source": [
        "idfMatrix= _create_idf_matrix(freq_matrix, count_doc_per_words, total_documents)"
      ],
      "metadata": {
        "id": "iyvBysaecpMG"
      },
      "execution_count": 45,
      "outputs": []
    },
    {
      "cell_type": "code",
      "source": [
        "print(idfMatrix)"
      ],
      "metadata": {
        "colab": {
          "base_uri": "https://localhost:8080/"
        },
        "id": "mSThK72Mc6ag",
        "outputId": "db2b1aa8-58df-43ba-d42f-bf0d49e8ee61"
      },
      "execution_count": 46,
      "outputs": [
        {
          "output_type": "stream",
          "name": "stdout",
          "text": [
            "{'My thanks, also, to some of the speakers on this platform who, referring to the delegates from the Orient, have told you that these men from far-off nations may well claim the honor of bearing to different lands the idea of toleration.': {'thank': 0.8450980400142568, ',': 0.24303804868629442, 'also': 0.8450980400142568, 'speaker': 0.8450980400142568, 'thi': 0.8450980400142568, 'platform': 0.8450980400142568, 'refer': 0.8450980400142568, 'deleg': 0.8450980400142568, 'orient': 0.8450980400142568, 'told': 0.8450980400142568, 'men': 0.5440680443502757, 'far-off': 0.8450980400142568, 'nation': 0.36797678529459443, 'may': 0.8450980400142568, 'well': 0.8450980400142568, 'claim': 0.8450980400142568, 'honor': 0.8450980400142568, 'bear': 0.8450980400142568, 'differ': 0.5440680443502757, 'land': 0.8450980400142568, 'idea': 0.8450980400142568, 'toler': 0.36797678529459443, '.': 0.0}, 'I am proud to belong to a religion which has taught the world both tolerance and universal acceptance.': {'proud': 0.24303804868629442, 'belong': 0.36797678529459443, 'religion': 0.24303804868629442, 'ha': 0.36797678529459443, 'taught': 0.8450980400142568, 'world': 0.8450980400142568, 'toler': 0.36797678529459443, 'univers': 0.5440680443502757, 'accept': 0.5440680443502757, '.': 0.0}, 'We believe not only in universal toleration, but we accept all religions as true.': {'believ': 0.8450980400142568, 'onli': 0.8450980400142568, 'univers': 0.5440680443502757, 'toler': 0.36797678529459443, ',': 0.24303804868629442, 'accept': 0.5440680443502757, 'religion': 0.24303804868629442, 'true': 0.8450980400142568, '.': 0.0}, 'I am proud to belong to a nation which has sheltered the persecuted and the refugees of all religions and all nations of the earth.': {'proud': 0.24303804868629442, 'belong': 0.36797678529459443, 'nation': 0.36797678529459443, 'ha': 0.36797678529459443, 'shelter': 0.5440680443502757, 'persecut': 0.8450980400142568, 'refuge': 0.8450980400142568, 'religion': 0.24303804868629442, 'earth': 0.8450980400142568, '.': 0.0}, 'I am proud to tell you that we have gathered in our bosom the purest remnant of the Israelites, who came to Southern India and took refuge with us in the very year in which their holy temple was shat\\xadtered to pieces by Roman tyranny.': {'proud': 0.24303804868629442, 'tell': 0.8450980400142568, 'gather': 0.8450980400142568, 'bosom': 0.8450980400142568, 'purest': 0.8450980400142568, 'remnant': 0.5440680443502757, 'israelit': 0.8450980400142568, ',': 0.24303804868629442, 'came': 0.8450980400142568, 'southern': 0.8450980400142568, 'india': 0.8450980400142568, 'took': 0.8450980400142568, 'refug': 0.8450980400142568, 'us': 0.8450980400142568, 'veri': 0.8450980400142568, 'year': 0.8450980400142568, 'holi': 0.8450980400142568, 'templ': 0.8450980400142568, 'wa': 0.8450980400142568, 'shat\\xadter': 0.8450980400142568, 'piec': 0.8450980400142568, 'roman': 0.8450980400142568, 'tyranni': 0.8450980400142568, '.': 0.0}, 'I am proud to belong to the religion which has sheltered and is still fostering the remnant of the grand Zoroastrian nation.': {'proud': 0.24303804868629442, 'belong': 0.36797678529459443, 'religion': 0.24303804868629442, 'ha': 0.36797678529459443, 'shelter': 0.5440680443502757, 'still': 0.8450980400142568, 'foster': 0.8450980400142568, 'remnant': 0.5440680443502757, 'grand': 0.8450980400142568, 'zoroastrian': 0.8450980400142568, 'nation': 0.36797678529459443, '.': 0.0}, 'I will quote to you, brethren, a few lines from a hymn which I remember to have repeated from my earliest boyhood, which is every day repeated by millions of human beings: “As the different streams having their sources in different paths which men take through different tendencies, various though they appear, crooked or straight, all lead to Thee.”': {'quot': 0.8450980400142568, ',': 0.24303804868629442, 'brethren': 0.8450980400142568, 'line': 0.8450980400142568, 'hymn': 0.8450980400142568, 'rememb': 0.8450980400142568, 'repeat': 0.8450980400142568, 'earliest': 0.8450980400142568, 'boyhood': 0.8450980400142568, 'everi': 0.8450980400142568, 'day': 0.8450980400142568, 'million': 0.8450980400142568, 'human': 0.8450980400142568, ':': 0.8450980400142568, '“': 0.8450980400142568, 'differ': 0.5440680443502757, 'stream': 0.8450980400142568, 'sourc': 0.8450980400142568, 'path': 0.8450980400142568, 'men': 0.5440680443502757, 'take': 0.8450980400142568, 'tendenc': 0.8450980400142568, 'variou': 0.8450980400142568, 'though': 0.8450980400142568, 'appear': 0.8450980400142568, 'crook': 0.8450980400142568, 'straight': 0.8450980400142568, 'lead': 0.8450980400142568, 'thee': 0.8450980400142568, '.': 0.0, '”': 0.8450980400142568}}\n"
          ]
        }
      ]
    },
    {
      "cell_type": "code",
      "source": [
        "def _create_tf_idf_matrix(tf_matrix, idf_matrix):\n",
        "    tf_idf_matrix = {}\n",
        "\n",
        "    for (sent1, f_table1), (sent2, f_table2) in zip(tf_matrix.items(), idf_matrix.items()):\n",
        "\n",
        "        tf_idf_table = {}\n",
        "\n",
        "        for (word1, value1), (word2, value2) in zip(f_table1.items(),\n",
        "                                                    f_table2.items()):  # here, keys are the same in both the table\n",
        "            tf_idf_table[word1] = float(value1 * value2)\n",
        "\n",
        "        tf_idf_matrix[sent1] = tf_idf_table\n",
        "\n",
        "    return tf_idf_matrix"
      ],
      "metadata": {
        "id": "gYnCPjZZcuC3"
      },
      "execution_count": 47,
      "outputs": []
    },
    {
      "cell_type": "code",
      "source": [
        "tfidfMatrix= _create_tf_idf_matrix(tfMatrix, idfMatrix)"
      ],
      "metadata": {
        "id": "i0MtEGLFdBTX"
      },
      "execution_count": 49,
      "outputs": []
    },
    {
      "cell_type": "code",
      "source": [
        "print(tfidfMatrix)"
      ],
      "metadata": {
        "colab": {
          "base_uri": "https://localhost:8080/"
        },
        "id": "tiwCFMl1dIAe",
        "outputId": "8541c254-91c5-43cc-e61f-7936e9cef8b0"
      },
      "execution_count": 50,
      "outputs": [
        {
          "output_type": "stream",
          "name": "stdout",
          "text": [
            "{'My thanks, also, to some of the speakers on this platform who, referring to the delegates from the Orient, have told you that these men from far-off nations may well claim the honor of bearing to different lands the idea of toleration.': {'thank': 0.03674339304409812, ',': 0.0422674867280512, 'also': 0.03674339304409812, 'speaker': 0.03674339304409812, 'thi': 0.03674339304409812, 'platform': 0.03674339304409812, 'refer': 0.03674339304409812, 'deleg': 0.03674339304409812, 'orient': 0.03674339304409812, 'told': 0.03674339304409812, 'men': 0.023655132363055463, 'far-off': 0.03674339304409812, 'nation': 0.015998990664982365, 'may': 0.03674339304409812, 'well': 0.03674339304409812, 'claim': 0.03674339304409812, 'honor': 0.03674339304409812, 'bear': 0.03674339304409812, 'differ': 0.023655132363055463, 'land': 0.03674339304409812, 'idea': 0.03674339304409812, 'toler': 0.015998990664982365, '.': 0.0}, 'I am proud to belong to a religion which has taught the world both tolerance and universal acceptance.': {'proud': 0.024303804868629444, 'belong': 0.03679767852945944, 'religion': 0.024303804868629444, 'ha': 0.03679767852945944, 'taught': 0.08450980400142569, 'world': 0.08450980400142569, 'toler': 0.03679767852945944, 'univers': 0.05440680443502757, 'accept': 0.05440680443502757, '.': 0.0}, 'We believe not only in universal toleration, but we accept all religions as true.': {'believ': 0.09389978222380631, 'onli': 0.09389978222380631, 'univers': 0.0604520049278084, 'toler': 0.040886309477177155, ',': 0.027004227631810488, 'accept': 0.0604520049278084, 'religion': 0.027004227631810488, 'true': 0.09389978222380631, '.': 0.0}, 'I am proud to belong to a nation which has sheltered the persecuted and the refugees of all religions and all nations of the earth.': {'proud': 0.024303804868629444, 'belong': 0.03679767852945944, 'nation': 0.07359535705891888, 'ha': 0.03679767852945944, 'shelter': 0.05440680443502757, 'persecut': 0.08450980400142569, 'refuge': 0.08450980400142569, 'religion': 0.024303804868629444, 'earth': 0.08450980400142569, '.': 0.0}, 'I am proud to tell you that we have gathered in our bosom the purest remnant of the Israelites, who came to Southern India and took refuge with us in the very year in which their holy temple was shat\\xadtered to pieces by Roman tyranny.': {'proud': 0.010126585361928933, 'tell': 0.03521241833392737, 'gather': 0.03521241833392737, 'bosom': 0.03521241833392737, 'purest': 0.03521241833392737, 'remnant': 0.022669501847928153, 'israelit': 0.03521241833392737, ',': 0.010126585361928933, 'came': 0.03521241833392737, 'southern': 0.03521241833392737, 'india': 0.03521241833392737, 'took': 0.03521241833392737, 'refug': 0.03521241833392737, 'us': 0.03521241833392737, 'veri': 0.03521241833392737, 'year': 0.03521241833392737, 'holi': 0.03521241833392737, 'templ': 0.03521241833392737, 'wa': 0.03521241833392737, 'shat\\xadter': 0.03521241833392737, 'piec': 0.03521241833392737, 'roman': 0.03521241833392737, 'tyranni': 0.03521241833392737, '.': 0.0}, 'I am proud to belong to the religion which has sheltered and is still fostering the remnant of the grand Zoroastrian nation.': {'proud': 0.020253170723857867, 'belong': 0.03066473210788287, 'religion': 0.020253170723857867, 'ha': 0.03066473210788287, 'shelter': 0.045339003695856306, 'still': 0.07042483666785473, 'foster': 0.07042483666785473, 'remnant': 0.045339003695856306, 'grand': 0.07042483666785473, 'zoroastrian': 0.07042483666785473, 'nation': 0.03066473210788287, '.': 0.0}, 'I will quote to you, brethren, a few lines from a hymn which I remember to have repeated from my earliest boyhood, which is every day repeated by millions of human beings: “As the different streams having their sources in different paths which men take through different tendencies, various though they appear, crooked or straight, all lead to Thee.”': {'quot': 0.02726122709723409, ',': 0.047039622326379565, 'brethren': 0.02726122709723409, 'line': 0.02726122709723409, 'hymn': 0.02726122709723409, 'rememb': 0.02726122709723409, 'repeat': 0.05452245419446818, 'earliest': 0.02726122709723409, 'boyhood': 0.02726122709723409, 'everi': 0.02726122709723409, 'day': 0.02726122709723409, 'million': 0.02726122709723409, 'human': 0.02726122709723409, ':': 0.02726122709723409, '“': 0.02726122709723409, 'differ': 0.052651746227446033, 'stream': 0.02726122709723409, 'sourc': 0.02726122709723409, 'path': 0.02726122709723409, 'men': 0.017550582075815342, 'take': 0.02726122709723409, 'tendenc': 0.02726122709723409, 'variou': 0.02726122709723409, 'though': 0.02726122709723409, 'appear': 0.02726122709723409, 'crook': 0.02726122709723409, 'straight': 0.02726122709723409, 'lead': 0.02726122709723409, 'thee': 0.02726122709723409, '.': 0.0, '”': 0.02726122709723409}}\n"
          ]
        }
      ]
    },
    {
      "cell_type": "code",
      "source": [
        "def _score_sentences(tfidfMatrix):\n",
        "    \"\"\"\n",
        "    score a sentence by its word's TF\n",
        "    Basic algorithm: adding the TF frequency of every non-stop word in a sentence divided by total no of words in a sentence.\n",
        "    :rtype: dict\n",
        "    \"\"\"\n",
        "\n",
        "    sentenceValue = {}\n",
        "\n",
        "    for sent, f_table in tfidfMatrix.items():\n",
        "        total_score_per_sentence = 0\n",
        "\n",
        "        count_words_in_sentence = len(f_table)\n",
        "        for word, score in f_table.items():\n",
        "            total_score_per_sentence += score\n",
        "\n",
        "        sentenceValue[sent] = total_score_per_sentence / count_words_in_sentence\n",
        "\n",
        "    return sentenceValue"
      ],
      "metadata": {
        "id": "j2wxveXpdNrw"
      },
      "execution_count": 52,
      "outputs": []
    },
    {
      "cell_type": "code",
      "source": [
        "score= _score_sentences(tfidfMatrix)"
      ],
      "metadata": {
        "id": "ISc4DFGKdV6S"
      },
      "execution_count": 53,
      "outputs": []
    },
    {
      "cell_type": "code",
      "source": [
        "print(score)"
      ],
      "metadata": {
        "colab": {
          "base_uri": "https://localhost:8080/"
        },
        "id": "-tnIVCcmdcRm",
        "outputId": "1758d9eb-4764-438f-e505-bf4e2671b76e"
      },
      "execution_count": 54,
      "outputs": [
        {
          "output_type": "stream",
          "name": "stdout",
          "text": [
            "{'My thanks, also, to some of the speakers on this platform who, referring to the delegates from the Orient, have told you that these men from far-off nations may well claim the honor of bearing to different lands the idea of toleration.': 0.03244406150146935, 'I am proud to belong to a religion which has taught the world both tolerance and universal acceptance.': 0.04368338621985437, 'We believe not only in universal toleration, but we accept all religions as true.': 0.05527756902975931, 'I am proud to belong to a nation which has sheltered the persecuted and the refugees of all religions and all nations of the earth.': 0.05037345402944012, 'I am proud to tell you that we have gathered in our bosom the purest remnant of the Israelites, who came to Southern India and took refuge with us in the very year in which their holy temple was shat\\xadtered to pieces by Roman tyranny.': 0.031132126635430565, 'I am proud to belong to the religion which has sheltered and is still fostering the remnant of the grand Zoroastrian nation.': 0.04207315765287465, 'I will quote to you, brethren, a few lines from a hymn which I remember to have repeated from my earliest boyhood, which is every day repeated by millions of human beings: “As the different streams having their sources in different paths which men take through different tendencies, various though they appear, crooked or straight, all lead to Thee.”': 0.028405042237167607}\n"
          ]
        }
      ]
    },
    {
      "cell_type": "code",
      "source": [
        "def _find_average_score(sentenceValue) -> int:\n",
        "    \"\"\"\n",
        "    Find the average score from the sentence value dictionary\n",
        "    :rtype: int\n",
        "    \"\"\"\n",
        "    sumValues = 0\n",
        "    for entry in sentenceValue:\n",
        "        sumValues += sentenceValue[entry]\n",
        "\n",
        "    # Average value of a sentence from original summary_text\n",
        "    average = (sumValues / len(sentenceValue))\n",
        "\n",
        "    return average"
      ],
      "metadata": {
        "id": "waclU7R4ddwE"
      },
      "execution_count": 56,
      "outputs": []
    },
    {
      "cell_type": "code",
      "source": [
        "averageScore= _find_average_score(score)"
      ],
      "metadata": {
        "id": "UjHxDoRCdl6a"
      },
      "execution_count": 57,
      "outputs": []
    },
    {
      "cell_type": "code",
      "source": [
        "print(averageScore)"
      ],
      "metadata": {
        "colab": {
          "base_uri": "https://localhost:8080/"
        },
        "id": "Iwntq5axduSE",
        "outputId": "4ea444e3-0ccb-4a6a-c8a6-3d9193febdf0"
      },
      "execution_count": 58,
      "outputs": [
        {
          "output_type": "stream",
          "name": "stdout",
          "text": [
            "0.040484113900856565\n"
          ]
        }
      ]
    },
    {
      "cell_type": "code",
      "source": [
        "def _generate_summary(sentences, sentenceValue, threshold):\n",
        "    sentence_count = 0\n",
        "    summary = ''\n",
        "\n",
        "    for sentence in sentences:\n",
        "        if sentence[:] in sentenceValue and sentenceValue[sentence[:]] >= (threshold):\n",
        "            summary += \" \" + sentence\n",
        "            sentence_count += 1\n",
        "\n",
        "    return summary"
      ],
      "metadata": {
        "id": "mJwA1WaldwJk"
      },
      "execution_count": 66,
      "outputs": []
    },
    {
      "cell_type": "code",
      "source": [
        "threshold=1.2*averageScore\n",
        "summary= _generate_summary(sentences, score, threshold)"
      ],
      "metadata": {
        "id": "CiV4qNjgd5KI"
      },
      "execution_count": 76,
      "outputs": []
    },
    {
      "cell_type": "code",
      "source": [
        "print(summary)"
      ],
      "metadata": {
        "colab": {
          "base_uri": "https://localhost:8080/"
        },
        "id": "g3eO3nfKeLIU",
        "outputId": "59d75992-2855-4528-a02c-2587bb09b9c4"
      },
      "execution_count": 77,
      "outputs": [
        {
          "output_type": "stream",
          "name": "stdout",
          "text": [
            " We believe not only in universal toleration, but we accept all religions as true. I am proud to belong to a nation which has sheltered the persecuted and the refugees of all religions and all nations of the earth.\n"
          ]
        }
      ]
    },
    {
      "cell_type": "code",
      "source": [
        "len(summary)"
      ],
      "metadata": {
        "colab": {
          "base_uri": "https://localhost:8080/"
        },
        "id": "7DOztQ8ueMhQ",
        "outputId": "213f445d-b73d-42b0-9d56-82d74ace4b38"
      },
      "execution_count": 78,
      "outputs": [
        {
          "output_type": "execute_result",
          "data": {
            "text/plain": [
              "214"
            ]
          },
          "metadata": {},
          "execution_count": 78
        }
      ]
    },
    {
      "cell_type": "code",
      "source": [],
      "metadata": {
        "id": "YiNQ8QRgea1X"
      },
      "execution_count": null,
      "outputs": []
    }
  ]
}