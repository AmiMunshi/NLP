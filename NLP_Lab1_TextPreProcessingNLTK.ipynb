{
  "cells": [
    {
      "cell_type": "markdown",
      "id": "ffb08bcf",
      "metadata": {
        "id": "ffb08bcf"
      },
      "source": [
        "Text pre-processing level-1 tokenization, stemming, lemmatization,stop word removal and PoS tagging using NLTK\n",
        "\n",
        "\n",
        "References:\n",
        "\n"
      ]
    },
    {
      "cell_type": "markdown",
      "id": "9370f21e",
      "metadata": {
        "id": "9370f21e"
      },
      "source": [
        "### Tokenization"
      ]
    },
    {
      "cell_type": "code",
      "source": [
        "### Tokenization using nltk"
      ],
      "metadata": {
        "id": "luIKDgmM7yxd"
      },
      "id": "luIKDgmM7yxd",
      "execution_count": null,
      "outputs": []
    },
    {
      "cell_type": "code",
      "execution_count": null,
      "id": "fbf2d82d",
      "metadata": {
        "id": "fbf2d82d"
      },
      "outputs": [],
      "source": [
        "import nltk\n",
        "from nltk import sent_tokenize, word_tokenize"
      ]
    },
    {
      "cell_type": "code",
      "execution_count": null,
      "id": "f25df508",
      "metadata": {
        "id": "f25df508"
      },
      "outputs": [],
      "source": [
        "para= \"\"\"India is the largest democratic country.\n",
        "It is a big country divided into 29 states and 7 union territories.These states and union territories have been created so that the government can run the country more easily. India also has many different kinds of physical features in different parts of the country\n",
        "that are spread over its states and union territories.India is a very diverse country as well, which means that the people around the country are different in many ways. Even though India is such a diverse place, it is united as one country.\"\"\""
      ]
    },
    {
      "cell_type": "code",
      "execution_count": null,
      "id": "e49c3e71",
      "metadata": {
        "id": "e49c3e71",
        "outputId": "c298c2f6-836f-4ee2-f31d-0f73cefca5d8"
      },
      "outputs": [
        {
          "name": "stdout",
          "output_type": "stream",
          "text": [
            "['India is the largest democratic country.', 'It is a big country divided into 29 states and 7 union territories.These states and union territories have been created so that the government can run the country more easily.', 'India also has many different kinds of physical features in different parts of the country \\nthat are spread over its states and union territories.India is a very diverse country as well, which means that the people around the country are different in many ways.', 'Even though India is such a diverse place, it is united as one country.']\n"
          ]
        }
      ],
      "source": [
        "#Sentence tokenize\n",
        "sentences= sent_tokenize(para)\n",
        "print(sentences)"
      ]
    },
    {
      "cell_type": "code",
      "execution_count": null,
      "id": "b417bc5d",
      "metadata": {
        "id": "b417bc5d",
        "outputId": "446f7c28-e9e8-4061-e0b0-2767323ef764"
      },
      "outputs": [
        {
          "name": "stdout",
          "output_type": "stream",
          "text": [
            "['India', 'is', 'the', 'largest', 'democratic', 'country', '.']\n"
          ]
        }
      ],
      "source": [
        "#word Tokenize\n",
        "words= word_tokenize(sentences[0])\n",
        "print(words)"
      ]
    },
    {
      "cell_type": "code",
      "execution_count": null,
      "id": "3d8877f7",
      "metadata": {
        "id": "3d8877f7",
        "outputId": "e7917968-d0ca-4c67-de41-b18db748f456"
      },
      "outputs": [
        {
          "name": "stdout",
          "output_type": "stream",
          "text": [
            "['India', 'is', 'the', 'largest', 'democratic', 'country', '.', 'It', 'is', 'a', 'big', 'country', 'divided', 'into', '29', 'states', 'and', '7', 'union', 'territories.These', 'states', 'and', 'union', 'territories', 'have', 'been', 'created', 'so', 'that', 'the', 'government', 'can', 'run', 'the', 'country', 'more', 'easily', '.', 'India', 'also', 'has', 'many', 'different', 'kinds', 'of', 'physical', 'features', 'in', 'different', 'parts', 'of', 'the', 'country', 'that', 'are', 'spread', 'over', 'its', 'states', 'and', 'union', 'territories.India', 'is', 'a', 'very', 'diverse', 'country', 'as', 'well', ',', 'which', 'means', 'that', 'the', 'people', 'around', 'the', 'country', 'are', 'different', 'in', 'many', 'ways', '.', 'Even', 'though', 'India', 'is', 'such', 'a', 'diverse', 'place', ',', 'it', 'is', 'united', 'as', 'one', 'country', '.']\n"
          ]
        }
      ],
      "source": [
        "#Using extend\n",
        "words_token=[]\n",
        "for sent in sentences:\n",
        "    words_token.extend(word_tokenize(sent))\n",
        "print(words_token)"
      ]
    },
    {
      "cell_type": "code",
      "execution_count": null,
      "id": "faeb6bf8",
      "metadata": {
        "id": "faeb6bf8",
        "outputId": "44895db9-1f2d-491c-dcd1-ff8022d757a0"
      },
      "outputs": [
        {
          "name": "stdout",
          "output_type": "stream",
          "text": [
            "[['India', 'is', 'the', 'largest', 'democratic', 'country', '.'], ['It', 'is', 'a', 'big', 'country', 'divided', 'into', '29', 'states', 'and', '7', 'union', 'territories.These', 'states', 'and', 'union', 'territories', 'have', 'been', 'created', 'so', 'that', 'the', 'government', 'can', 'run', 'the', 'country', 'more', 'easily', '.'], ['India', 'also', 'has', 'many', 'different', 'kinds', 'of', 'physical', 'features', 'in', 'different', 'parts', 'of', 'the', 'country', 'that', 'are', 'spread', 'over', 'its', 'states', 'and', 'union', 'territories.India', 'is', 'a', 'very', 'diverse', 'country', 'as', 'well', ',', 'which', 'means', 'that', 'the', 'people', 'around', 'the', 'country', 'are', 'different', 'in', 'many', 'ways', '.'], ['Even', 'though', 'India', 'is', 'such', 'a', 'diverse', 'place', ',', 'it', 'is', 'united', 'as', 'one', 'country', '.']]\n"
          ]
        }
      ],
      "source": [
        "#Useing append\n",
        "words_token=[]\n",
        "for sent in sentences:\n",
        "    words_token.append(word_tokenize(sent))\n",
        "print(words_token)"
      ]
    },
    {
      "cell_type": "code",
      "execution_count": null,
      "id": "9ab3d445",
      "metadata": {
        "id": "9ab3d445",
        "outputId": "8becd395-d4bd-49b2-b9ab-2ea675736188"
      },
      "outputs": [
        {
          "name": "stdout",
          "output_type": "stream",
          "text": [
            "['India', 'is', 'the', 'largest', 'democratic', 'country', '.', 'It', 'is', 'a', 'big', 'country', 'divided', 'into', '29', 'states', 'and', '7', 'union', 'territories.These', 'states', 'and', 'union', 'territories', 'have', 'been', 'created', 'so', 'that', 'the', 'government', 'can', 'run', 'the', 'country', 'more', 'easily', '.', 'India', 'also', 'has', 'many', 'different', 'kinds', 'of', 'physical', 'features', 'in', 'different', 'parts', 'of', 'the', 'country', 'that', 'are', 'spread', 'over', 'its', 'states', 'and', 'union', 'territories.India', 'is', 'a', 'very', 'diverse', 'country', 'as', 'well', ',', 'which', 'means', 'that', 'the', 'people', 'around', 'the', 'country', 'are', 'different', 'in', 'many', 'ways', '.', 'Even', 'though', 'India', 'is', 'such', 'a', 'diverse', 'place', ',', 'it', 'is', 'united', 'as', 'one', 'country', '.']\n"
          ]
        }
      ],
      "source": [
        "print(word_tokenize(para))"
      ]
    },
    {
      "cell_type": "markdown",
      "source": [
        "### Tokenization using SpaCy"
      ],
      "metadata": {
        "id": "pKsUnN1R74zq"
      },
      "id": "pKsUnN1R74zq"
    },
    {
      "cell_type": "code",
      "source": [
        "import spacy"
      ],
      "metadata": {
        "id": "zQ34PQDw74Wi"
      },
      "id": "zQ34PQDw74Wi",
      "execution_count": null,
      "outputs": []
    },
    {
      "cell_type": "code",
      "source": [
        "sp = spacy.load('en_core_web_sm')\n",
        "sentence = sp(para)\n",
        "print(sentence)"
      ],
      "metadata": {
        "colab": {
          "base_uri": "https://localhost:8080/"
        },
        "id": "M_4MgZEk8HCC",
        "outputId": "deb51974-bdaa-47a2-8023-c499e43d9868"
      },
      "id": "M_4MgZEk8HCC",
      "execution_count": null,
      "outputs": [
        {
          "output_type": "stream",
          "name": "stdout",
          "text": [
            "India is the largest democratic country.\n",
            "It is a big country divided into 29 states and 7 union territories.These states and union territories have been created so that the government can run the country more easily. India also has many different kinds of physical features in different parts of the country \n",
            "that are spread over its states and union territories.India is a very diverse country as well, which means that the people around the country are different in many ways. Even though India is such a diverse place, it is united as one country.\n"
          ]
        }
      ]
    },
    {
      "cell_type": "code",
      "source": [
        "word_spacy_tokenize= []\n",
        "\n",
        "for word in sentence:\n",
        "   word_spacy_tokenize.append(word)\n",
        "word_spacy_tokenize"
      ],
      "metadata": {
        "colab": {
          "base_uri": "https://localhost:8080/"
        },
        "id": "JMimFO838dmM",
        "outputId": "bd623378-d4ff-4ce9-96ea-b0ee49836c61"
      },
      "id": "JMimFO838dmM",
      "execution_count": null,
      "outputs": [
        {
          "output_type": "execute_result",
          "data": {
            "text/plain": [
              "[India,\n",
              " is,\n",
              " the,\n",
              " largest,\n",
              " democratic,\n",
              " country,\n",
              " .,\n",
              " ,\n",
              " It,\n",
              " is,\n",
              " a,\n",
              " big,\n",
              " country,\n",
              " divided,\n",
              " into,\n",
              " 29,\n",
              " states,\n",
              " and,\n",
              " 7,\n",
              " union,\n",
              " territories,\n",
              " .,\n",
              " These,\n",
              " states,\n",
              " and,\n",
              " union,\n",
              " territories,\n",
              " have,\n",
              " been,\n",
              " created,\n",
              " so,\n",
              " that,\n",
              " the,\n",
              " government,\n",
              " can,\n",
              " run,\n",
              " the,\n",
              " country,\n",
              " more,\n",
              " easily,\n",
              " .,\n",
              " India,\n",
              " also,\n",
              " has,\n",
              " many,\n",
              " different,\n",
              " kinds,\n",
              " of,\n",
              " physical,\n",
              " features,\n",
              " in,\n",
              " different,\n",
              " parts,\n",
              " of,\n",
              " the,\n",
              " country,\n",
              " ,\n",
              " that,\n",
              " are,\n",
              " spread,\n",
              " over,\n",
              " its,\n",
              " states,\n",
              " and,\n",
              " union,\n",
              " territories,\n",
              " .,\n",
              " India,\n",
              " is,\n",
              " a,\n",
              " very,\n",
              " diverse,\n",
              " country,\n",
              " as,\n",
              " well,\n",
              " ,,\n",
              " which,\n",
              " means,\n",
              " that,\n",
              " the,\n",
              " people,\n",
              " around,\n",
              " the,\n",
              " country,\n",
              " are,\n",
              " different,\n",
              " in,\n",
              " many,\n",
              " ways,\n",
              " .,\n",
              " Even,\n",
              " though,\n",
              " India,\n",
              " is,\n",
              " such,\n",
              " a,\n",
              " diverse,\n",
              " place,\n",
              " ,,\n",
              " it,\n",
              " is,\n",
              " united,\n",
              " as,\n",
              " one,\n",
              " country,\n",
              " .]"
            ]
          },
          "metadata": {},
          "execution_count": 6
        }
      ]
    },
    {
      "cell_type": "markdown",
      "source": [
        "### Using Gensim to Tokenize"
      ],
      "metadata": {
        "id": "aQhSH7c58s4k"
      },
      "id": "aQhSH7c58s4k"
    },
    {
      "cell_type": "code",
      "source": [
        "from gensim.utils import tokenize"
      ],
      "metadata": {
        "id": "fhC4FDji9PXu"
      },
      "id": "fhC4FDji9PXu",
      "execution_count": null,
      "outputs": []
    },
    {
      "cell_type": "code",
      "source": [
        "list(tokenize(para))"
      ],
      "metadata": {
        "id": "7Onb1iD69W0U",
        "outputId": "de5261d2-5152-4658-cacf-c6e0bfff4060",
        "colab": {
          "base_uri": "https://localhost:8080/"
        }
      },
      "id": "7Onb1iD69W0U",
      "execution_count": null,
      "outputs": [
        {
          "output_type": "execute_result",
          "data": {
            "text/plain": [
              "['India',\n",
              " 'is',\n",
              " 'the',\n",
              " 'largest',\n",
              " 'democratic',\n",
              " 'country',\n",
              " 'It',\n",
              " 'is',\n",
              " 'a',\n",
              " 'big',\n",
              " 'country',\n",
              " 'divided',\n",
              " 'into',\n",
              " 'states',\n",
              " 'and',\n",
              " 'union',\n",
              " 'territories',\n",
              " 'These',\n",
              " 'states',\n",
              " 'and',\n",
              " 'union',\n",
              " 'territories',\n",
              " 'have',\n",
              " 'been',\n",
              " 'created',\n",
              " 'so',\n",
              " 'that',\n",
              " 'the',\n",
              " 'government',\n",
              " 'can',\n",
              " 'run',\n",
              " 'the',\n",
              " 'country',\n",
              " 'more',\n",
              " 'easily',\n",
              " 'India',\n",
              " 'also',\n",
              " 'has',\n",
              " 'many',\n",
              " 'different',\n",
              " 'kinds',\n",
              " 'of',\n",
              " 'physical',\n",
              " 'features',\n",
              " 'in',\n",
              " 'different',\n",
              " 'parts',\n",
              " 'of',\n",
              " 'the',\n",
              " 'country',\n",
              " 'that',\n",
              " 'are',\n",
              " 'spread',\n",
              " 'over',\n",
              " 'its',\n",
              " 'states',\n",
              " 'and',\n",
              " 'union',\n",
              " 'territories',\n",
              " 'India',\n",
              " 'is',\n",
              " 'a',\n",
              " 'very',\n",
              " 'diverse',\n",
              " 'country',\n",
              " 'as',\n",
              " 'well',\n",
              " 'which',\n",
              " 'means',\n",
              " 'that',\n",
              " 'the',\n",
              " 'people',\n",
              " 'around',\n",
              " 'the',\n",
              " 'country',\n",
              " 'are',\n",
              " 'different',\n",
              " 'in',\n",
              " 'many',\n",
              " 'ways',\n",
              " 'Even',\n",
              " 'though',\n",
              " 'India',\n",
              " 'is',\n",
              " 'such',\n",
              " 'a',\n",
              " 'diverse',\n",
              " 'place',\n",
              " 'it',\n",
              " 'is',\n",
              " 'united',\n",
              " 'as',\n",
              " 'one',\n",
              " 'country']"
            ]
          },
          "metadata": {},
          "execution_count": 8
        }
      ]
    },
    {
      "cell_type": "markdown",
      "id": "5dc524d2",
      "metadata": {
        "id": "5dc524d2"
      },
      "source": [
        "### Change case"
      ]
    },
    {
      "cell_type": "code",
      "execution_count": null,
      "id": "4a22b378",
      "metadata": {
        "id": "4a22b378",
        "outputId": "a6f6e476-cde5-4e12-d321-4d5180b3429b"
      },
      "outputs": [
        {
          "name": "stdout",
          "output_type": "stream",
          "text": [
            "india is the largest democratic country.\n",
            "it is a big country divided into 29 states and 7 union territories.these states and union territories have been created so that the government can run the country more easily. india also has many different kinds of physical features in different parts of the country \n",
            "that are spread over its states and union territories.india is a very diverse country as well, which means that the people around the country are different in many ways. even though india is such a diverse place, it is united as one country.\n"
          ]
        }
      ],
      "source": [
        "#Convert all words to lower case\n",
        "\n",
        "para_lower= para.lower()\n",
        "print(para_lower)"
      ]
    },
    {
      "cell_type": "code",
      "execution_count": null,
      "id": "597d3444",
      "metadata": {
        "id": "597d3444",
        "outputId": "c37ab216-99a1-4559-ec4e-065d922bede7"
      },
      "outputs": [
        {
          "name": "stdout",
          "output_type": "stream",
          "text": [
            "INDIA IS THE LARGEST DEMOCRATIC COUNTRY.\n",
            "IT IS A BIG COUNTRY DIVIDED INTO 29 STATES AND 7 UNION TERRITORIES.THESE STATES AND UNION TERRITORIES HAVE BEEN CREATED SO THAT THE GOVERNMENT CAN RUN THE COUNTRY MORE EASILY. INDIA ALSO HAS MANY DIFFERENT KINDS OF PHYSICAL FEATURES IN DIFFERENT PARTS OF THE COUNTRY \n",
            "THAT ARE SPREAD OVER ITS STATES AND UNION TERRITORIES.INDIA IS A VERY DIVERSE COUNTRY AS WELL, WHICH MEANS THAT THE PEOPLE AROUND THE COUNTRY ARE DIFFERENT IN MANY WAYS. EVEN THOUGH INDIA IS SUCH A DIVERSE PLACE, IT IS UNITED AS ONE COUNTRY.\n"
          ]
        }
      ],
      "source": [
        "#Convert all words to upper case\n",
        "\n",
        "para_upper= para.upper()\n",
        "print(para_upper)"
      ]
    },
    {
      "cell_type": "markdown",
      "id": "b4a56900",
      "metadata": {
        "id": "b4a56900"
      },
      "source": [
        "### Stop word removal"
      ]
    },
    {
      "cell_type": "code",
      "execution_count": null,
      "id": "f03c7eaa",
      "metadata": {
        "id": "f03c7eaa",
        "outputId": "749da46d-6539-4a34-f92d-875f96a4eb14"
      },
      "outputs": [
        {
          "name": "stderr",
          "output_type": "stream",
          "text": [
            "[nltk_data] Downloading package stopwords to\n",
            "[nltk_data]     C:\\Users\\Ami.munshi\\AppData\\Roaming\\nltk_data...\n",
            "[nltk_data]   Package stopwords is already up-to-date!\n"
          ]
        },
        {
          "data": {
            "text/plain": [
              "True"
            ]
          },
          "execution_count": 30,
          "metadata": {},
          "output_type": "execute_result"
        }
      ],
      "source": [
        "nltk.download(\"stopwords\")"
      ]
    },
    {
      "cell_type": "code",
      "execution_count": null,
      "id": "14260828",
      "metadata": {
        "id": "14260828"
      },
      "outputs": [],
      "source": [
        "from nltk.corpus import stopwords"
      ]
    },
    {
      "cell_type": "code",
      "execution_count": null,
      "id": "5bdca6fb",
      "metadata": {
        "id": "5bdca6fb",
        "outputId": "f4e2bd98-4577-44e3-e992-2abfa1197fce"
      },
      "outputs": [
        {
          "name": "stdout",
          "output_type": "stream",
          "text": [
            "{'had', 'how', \"haven't\", 'when', 'below', 'but', 'you', 'are', 'ours', 'then', 'll', \"isn't\", 'ma', 'herself', 'above', 'if', 'other', 'that', 'can', 'again', 'aren', 'they', 'he', 'does', 'each', 'yourselves', \"hadn't\", 'some', 'weren', 'than', 's', 'your', 'shan', 'an', 'against', 'hadn', 'haven', 'has', \"didn't\", 'or', \"she's\", 'more', 'having', 'while', 'should', 'out', 'up', 'such', 'too', 'am', 'both', 'have', 'just', 'and', 'through', 'because', 'few', 'm', 'his', 'isn', 'we', 'the', 'didn', 'which', 'what', 't', 'was', 'any', 'who', 'our', 'itself', \"wouldn't\", 'into', 'after', 'mightn', 'shouldn', 'under', \"don't\", 'those', 'over', 'whom', 'down', 'himself', \"it's\", 'y', 'couldn', 'during', 'o', \"weren't\", 'him', \"couldn't\", 'their', 'be', 'now', 'd', 'between', 'in', \"won't\", 'of', 'me', 'as', 'for', 'about', 'why', 'own', 'wasn', 'wouldn', 'only', 'there', 'did', 'to', \"hasn't\", 'where', 'here', 'on', \"you'll\", 'been', 'being', 'will', 'she', 'all', \"mightn't\", 'before', 'from', 'these', 'nor', \"shouldn't\", 'until', 'them', 've', 'don', 'i', 'its', 'yours', 'doing', 'my', 'needn', 'so', 'hers', 'with', 'it', 'at', 'ain', 'once', \"you're\", \"wasn't\", \"shan't\", 'most', 'won', 'by', \"that'll\", 'same', 'hasn', \"mustn't\", 'very', 'were', 'doesn', \"needn't\", 'theirs', 'mustn', 'is', \"you've\", 'this', 'yourself', \"doesn't\", 'off', 'ourselves', 'a', 'further', 'themselves', \"you'd\", \"should've\", \"aren't\", 'no', 're', 'do', 'her', 'myself', 'not'}\n"
          ]
        }
      ],
      "source": [
        "stopWords = set(stopwords.words('english'))\n",
        "print(stopWords)"
      ]
    },
    {
      "cell_type": "code",
      "execution_count": null,
      "id": "20f16350",
      "metadata": {
        "id": "20f16350",
        "outputId": "c57734df-c4ae-45c4-ef36-840d615150dd"
      },
      "outputs": [
        {
          "name": "stdout",
          "output_type": "stream",
          "text": [
            "['india', 'largest', 'democratic', 'country', '.', 'big', 'country', 'divided', '29', 'states', '7', 'union', 'territories.these', 'states', 'union', 'territories', 'created', 'government', 'run', 'country', 'easily', '.', 'india', 'also', 'many', 'different', 'kinds', 'physical', 'features', 'different', 'parts', 'country', 'spread', 'states', 'union', 'territories.india', 'diverse', 'country', 'well', ',', 'means', 'people', 'around', 'country', 'different', 'many', 'ways', '.', 'even', 'though', 'india', 'diverse', 'place', ',', 'united', 'one', 'country', '.']\n"
          ]
        }
      ],
      "source": [
        "word_filtered=[]\n",
        "para_lower_tokenize=word_tokenize(para_lower)\n",
        "\n",
        "for word in para_lower_tokenize:\n",
        "    if word not in stopWords:\n",
        "        word_filtered.append(word)\n",
        "print(word_filtered)\n"
      ]
    },
    {
      "cell_type": "code",
      "execution_count": null,
      "id": "4af63085",
      "metadata": {
        "id": "4af63085",
        "outputId": "96f0dda7-c0d0-46b5-aa08-0fe2c6049fcb"
      },
      "outputs": [
        {
          "name": "stdout",
          "output_type": "stream",
          "text": [
            "length before and after stop word removal is: 100 and 58 respectively\n"
          ]
        }
      ],
      "source": [
        "print(\"length before and after stop word removal is: {} and {} respectively\".format(len(para_lower_tokenize), len(word_filtered)))"
      ]
    },
    {
      "cell_type": "markdown",
      "id": "51eba588",
      "metadata": {
        "id": "51eba588"
      },
      "source": [
        "### Stemming\n",
        "\n",
        "Text processing task in which you reduce words to their root"
      ]
    },
    {
      "cell_type": "code",
      "execution_count": null,
      "id": "809c9d83",
      "metadata": {
        "id": "809c9d83"
      },
      "outputs": [],
      "source": [
        "from nltk.stem import PorterStemmer"
      ]
    },
    {
      "cell_type": "code",
      "execution_count": null,
      "id": "44e567f7",
      "metadata": {
        "id": "44e567f7",
        "outputId": "afb2bfbb-c047-4663-c50b-4486b147fe53"
      },
      "outputs": [
        {
          "name": "stdout",
          "output_type": "stream",
          "text": [
            "wait  :  wait\n",
            "waiting  :  wait\n",
            "waited  :  wait\n",
            "waits  :  wait\n",
            "listening  :  listen\n",
            "history  :  histori\n",
            "abitlity  :  abitl\n",
            "arrival  :  arriv\n",
            "finally  :  final\n",
            "congratulations  :  congratul\n",
            "exaggeration  :  exagger\n",
            "understandable  :  understand\n",
            "probability  :  probabl\n",
            "player  :  player\n",
            "toys  :  toy\n",
            "consumer  :  consum\n",
            "fairly  :  fairli\n"
          ]
        }
      ],
      "source": [
        "words= [\"wait\", \"waiting\", \"waited\", \"waits\", \"listening\", \"history\", \"abitlity\", \"arrival\", \"finally\", \"congratulations\", \\\n",
        "       \"exaggeration\", \"understandable\", \"probability\", \"player\",\"toys\", \"consumer\", \"fairly\"]\n",
        "porter =PorterStemmer()\n",
        "for word in words:\n",
        "    rootWord=porter.stem(word)\n",
        "    print(word,\" : \",rootWord)"
      ]
    },
    {
      "cell_type": "code",
      "execution_count": null,
      "id": "2c43ebe9",
      "metadata": {
        "id": "2c43ebe9"
      },
      "outputs": [],
      "source": [
        "from nltk.stem import LancasterStemmer"
      ]
    },
    {
      "cell_type": "code",
      "execution_count": null,
      "id": "41707426",
      "metadata": {
        "id": "41707426",
        "outputId": "bdec890d-c4f0-4dbe-b669-d8af099cc8d2"
      },
      "outputs": [
        {
          "name": "stdout",
          "output_type": "stream",
          "text": [
            "wait  :  wait\n",
            "waiting  :  wait\n",
            "waited  :  wait\n",
            "waits  :  wait\n",
            "listening  :  list\n",
            "history  :  hist\n",
            "abitlity  :  abitl\n",
            "arrival  :  ar\n",
            "finally  :  fin\n",
            "congratulations  :  congrat\n",
            "exaggeration  :  exag\n",
            "understandable  :  understand\n",
            "probability  :  prob\n",
            "player  :  play\n",
            "toys  :  toy\n",
            "consumer  :  consum\n",
            "fairly  :  fair\n"
          ]
        }
      ],
      "source": [
        "lancaster =LancasterStemmer()\n",
        "for word in words:\n",
        "    rootWord=lancaster.stem(word)\n",
        "    print(word,\" : \",rootWord)"
      ]
    },
    {
      "cell_type": "code",
      "execution_count": null,
      "id": "259cb315",
      "metadata": {
        "id": "259cb315"
      },
      "outputs": [],
      "source": [
        "from nltk.stem import RegexpStemmer"
      ]
    },
    {
      "cell_type": "code",
      "execution_count": null,
      "id": "d658f983",
      "metadata": {
        "id": "d658f983",
        "outputId": "0d60b908-2b0e-4c52-c334-f2eef6df187a"
      },
      "outputs": [
        {
          "name": "stdout",
          "output_type": "stream",
          "text": [
            "wait  :  wait\n",
            "waiting  :  wait\n",
            "waited  :  waited\n",
            "waits  :  wait\n",
            "listening  :  listen\n",
            "history  :  history\n",
            "abitlity  :  abitlity\n",
            "arrival  :  arrival\n",
            "finally  :  finally\n",
            "congratulations  :  congratulation\n",
            "exaggeration  :  exaggeration\n",
            "understandable  :  understand\n",
            "probability  :  probability\n",
            "player  :  play\n",
            "toys  :  toy\n",
            "consumer  :  consum\n",
            "fairly  :  fairly\n"
          ]
        }
      ],
      "source": [
        "regex =RegexpStemmer(\"ing$|es$|s$|er$|able$\")\n",
        "\n",
        "for word in words:\n",
        "    rootWord=regex.stem(word)\n",
        "    print(word,\" : \",rootWord)"
      ]
    },
    {
      "cell_type": "code",
      "execution_count": null,
      "id": "90ee5a10",
      "metadata": {
        "id": "90ee5a10"
      },
      "outputs": [],
      "source": [
        "from nltk.stem import SnowballStemmer"
      ]
    },
    {
      "cell_type": "code",
      "execution_count": null,
      "id": "3653aa21",
      "metadata": {
        "id": "3653aa21",
        "outputId": "319f6741-9d5c-46c9-8d27-805470a2eeb1"
      },
      "outputs": [
        {
          "name": "stdout",
          "output_type": "stream",
          "text": [
            "wait  :  wait\n",
            "waiting  :  wait\n",
            "waited  :  wait\n",
            "waits  :  wait\n",
            "listening  :  listen\n",
            "history  :  histori\n",
            "abitlity  :  abitl\n",
            "arrival  :  arriv\n",
            "finally  :  final\n",
            "congratulations  :  congratul\n",
            "exaggeration  :  exagger\n",
            "understandable  :  understand\n",
            "probability  :  probabl\n",
            "player  :  player\n",
            "toys  :  toy\n",
            "consumer  :  consum\n",
            "fairly  :  fair\n"
          ]
        }
      ],
      "source": [
        "snow =SnowballStemmer(language=\"english\")\n",
        "\n",
        "for word in words:\n",
        "    rootWord=snow.stem(word)\n",
        "    print(word,\" : \",rootWord)"
      ]
    },
    {
      "cell_type": "markdown",
      "id": "bf1179df",
      "metadata": {
        "id": "bf1179df"
      },
      "source": [
        "### Lemmatization\n",
        "\n",
        "Ref: https://www.machinelearningplus.com/nlp/lemmatization-examples-python/\n",
        "\n",
        "https://www.nltk.org/_modules/nltk/stem/wordnet.html\n",
        "\n",
        "https://medium.com/@yashj302/lemmatization-f134b3089429\n",
        "\n",
        "https://www.geeksforgeeks.org/python-lemmatization-approaches-with-examples/"
      ]
    },
    {
      "cell_type": "code",
      "execution_count": null,
      "id": "84d2ecc6",
      "metadata": {
        "id": "84d2ecc6",
        "outputId": "c735d927-95aa-4d4f-a622-d64a5d91d30d"
      },
      "outputs": [
        {
          "name": "stderr",
          "output_type": "stream",
          "text": [
            "[nltk_data] Downloading package wordnet to\n",
            "[nltk_data]     C:\\Users\\Ami.munshi\\AppData\\Roaming\\nltk_data...\n",
            "[nltk_data]   Package wordnet is already up-to-date!\n",
            "[nltk_data] Downloading package averaged_perceptron_tagger to\n",
            "[nltk_data]     C:\\Users\\Ami.munshi\\AppData\\Roaming\\nltk_data...\n",
            "[nltk_data]   Package averaged_perceptron_tagger is already up-to-\n",
            "[nltk_data]       date!\n"
          ]
        },
        {
          "data": {
            "text/plain": [
              "True"
            ]
          },
          "execution_count": 81,
          "metadata": {},
          "output_type": "execute_result"
        }
      ],
      "source": [
        "# # Download Wordnet through NLTK in python console:\n",
        "import nltk\n",
        "nltk.download('wordnet')\n",
        "from nltk.stem import WordNetLemmatizer\n",
        "from nltk import sent_tokenize, word_tokenize\n",
        "from nltk.corpus import wordnet\n",
        "nltk.download('averaged_perceptron_tagger')"
      ]
    },
    {
      "cell_type": "code",
      "execution_count": null,
      "id": "9262a6e8",
      "metadata": {
        "id": "9262a6e8",
        "outputId": "fd6b659f-02ca-48b6-aa71-deb3300def3d"
      },
      "outputs": [
        {
          "name": "stdout",
          "output_type": "stream",
          "text": [
            "wait: wait\n",
            "waiting: waiting\n",
            "waited: waited\n",
            "waits: wait\n",
            "listening: listening\n",
            "history: history\n",
            "abitlity: abitlity\n",
            "arrival: arrival\n",
            "finally: finally\n",
            "congratulations: congratulation\n",
            "exaggeration: exaggeration\n",
            "understandable: understandable\n",
            "probability: probability\n",
            "player: player\n",
            "toys: toy\n",
            "consumer: consumer\n",
            "fairly: fairly\n"
          ]
        }
      ],
      "source": [
        "#Using nltk WordNet Lemmatizer\n",
        "\n",
        "lemmatizer= WordNetLemmatizer()\n",
        "words= [\"wait\", \"waiting\", \"waited\", \"waits\", \"listening\", \"history\", \"abitlity\", \"arrival\", \"finally\", \"congratulations\", \\\n",
        "       \"exaggeration\", \"understandable\", \"probability\", \"player\",\"toys\", \"consumer\", \"fairly\"]\n",
        "for word in words:\n",
        "    print(\"{}: {}\".format(word, lemmatizer.lemmatize(word)))"
      ]
    },
    {
      "cell_type": "code",
      "execution_count": null,
      "id": "63bee033",
      "metadata": {
        "id": "63bee033",
        "outputId": "3fa54bad-420b-4801-b0b5-018f79e7ba94"
      },
      "outputs": [
        {
          "name": "stdout",
          "output_type": "stream",
          "text": [
            "['The', 'students', 'are', 'waiting', 'outside', 'the', 'class', 'room']\n"
          ]
        }
      ],
      "source": [
        "sentence=\"The students are waiting outside the class room\"\n",
        "#Tokenizing the sentence\n",
        "word_tokens= word_tokenize(sentence)\n",
        "print(word_tokens)\n"
      ]
    },
    {
      "cell_type": "code",
      "execution_count": null,
      "id": "ef8a1e5e",
      "metadata": {
        "id": "ef8a1e5e",
        "outputId": "1f9133ce-27ef-45ed-a7c5-4d104ddba86d"
      },
      "outputs": [
        {
          "name": "stdout",
          "output_type": "stream",
          "text": [
            "['The', 'student', 'are', 'waiting', 'outside', 'the', 'class', 'room']\n"
          ]
        }
      ],
      "source": [
        "#Lemmatizing the tokens\n",
        "lemmatized=[]\n",
        "for token in word_tokens:\n",
        "    lemmatized.append(lemmatizer.lemmatize(token))\n",
        "print(lemmatized)"
      ]
    },
    {
      "cell_type": "code",
      "execution_count": null,
      "id": "1653d4b2",
      "metadata": {
        "id": "1653d4b2",
        "outputId": "f798f809-67aa-44a0-cd87-c00c666359ea"
      },
      "outputs": [
        {
          "name": "stdout",
          "output_type": "stream",
          "text": [
            "The student are waiting outside the class room\n"
          ]
        }
      ],
      "source": [
        "#Joining the lemmatized words\n",
        "lemmatized_sent= \" \".join(lemmatized)\n",
        "print(lemmatized_sent)"
      ]
    },
    {
      "cell_type": "markdown",
      "id": "fee30314",
      "metadata": {
        "id": "fee30314"
      },
      "source": [
        "Note: We can observe that the words are not appropriately lemmatized. Eg, are does not become \"be\" or waiting does not become \"wait\""
      ]
    },
    {
      "cell_type": "code",
      "execution_count": null,
      "id": "dfe991ac",
      "metadata": {
        "id": "dfe991ac",
        "outputId": "da673382-f256-4986-dba4-8eed90c72a61"
      },
      "outputs": [
        {
          "name": "stdout",
          "output_type": "stream",
          "text": [
            "wait\n",
            "be\n"
          ]
        }
      ],
      "source": [
        "#using POS tag\n",
        "print(lemmatizer.lemmatize(\"waiting\", 'v'))\n",
        "print(lemmatizer.lemmatize(\"are\", 'v'))"
      ]
    },
    {
      "cell_type": "code",
      "execution_count": null,
      "id": "19ebfe49",
      "metadata": {
        "id": "19ebfe49",
        "outputId": "95d86edb-e4fc-4d01-dc81-7a0d4e5059e0"
      },
      "outputs": [
        {
          "name": "stdout",
          "output_type": "stream",
          "text": [
            "[('waiting', 'VBG')]\n"
          ]
        }
      ],
      "source": [
        "#Using nltk.pos_tag() method to tag words in large corpus\n",
        "\n",
        "print(nltk.pos_tag([\"waiting\"]))"
      ]
    },
    {
      "cell_type": "markdown",
      "id": "e4486821",
      "metadata": {
        "id": "e4486821"
      },
      "source": [
        "Refer to this website for POS tag\n",
        "\n",
        "https://cs.nyu.edu/~grishman/jet/guide/PennPOS.html"
      ]
    },
    {
      "cell_type": "code",
      "execution_count": null,
      "id": "0fae0010",
      "metadata": {
        "id": "0fae0010",
        "outputId": "6480c441-8df4-4ba4-9866-3e98475a45c2"
      },
      "outputs": [
        {
          "name": "stdout",
          "output_type": "stream",
          "text": [
            "[('The', 'DT'), ('students', 'NNS'), ('are', 'VBP'), ('waiting', 'VBG'), ('outside', 'IN'), ('the', 'DT'), ('class', 'NN'), ('room', 'NN')]\n"
          ]
        }
      ],
      "source": [
        "sentence=\"The students are waiting outside the class room\"\n",
        "word_tokens= word_tokenize(sentence)\n",
        "print(nltk.pos_tag(word_tokens))"
      ]
    },
    {
      "cell_type": "code",
      "execution_count": null,
      "id": "dc418b38",
      "metadata": {
        "id": "dc418b38",
        "outputId": "b8155fb0-022a-48c5-b5d7-693609394467"
      },
      "outputs": [
        {
          "name": "stdout",
          "output_type": "stream",
          "text": [
            "be\n"
          ]
        }
      ],
      "source": [
        "print(lemmatizer.lemmatize(\"are\", get_wordnet_pos(\"are\")))"
      ]
    },
    {
      "cell_type": "code",
      "execution_count": null,
      "id": "6c6c5122",
      "metadata": {
        "id": "6c6c5122",
        "outputId": "daeda359-3b57-4270-ac95-23e05fc394e3"
      },
      "outputs": [
        {
          "data": {
            "text/plain": [
              "'V'"
            ]
          },
          "execution_count": 31,
          "metadata": {},
          "output_type": "execute_result"
        }
      ],
      "source": [
        "nltk.pos_tag([\"waiting\"])[0][1][0]"
      ]
    },
    {
      "cell_type": "code",
      "execution_count": null,
      "id": "47701ab7",
      "metadata": {
        "id": "47701ab7"
      },
      "outputs": [],
      "source": [
        "def pos_tagger(word):\n",
        "    nltk_tag = nltk.pos_tag([word])[0][1][0]\n",
        "    if nltk_tag.startswith('J'):\n",
        "        return wordnet.ADJ\n",
        "    elif nltk_tag.startswith('V'):\n",
        "        return wordnet.VERB\n",
        "    elif nltk_tag.startswith('N'):\n",
        "        return wordnet.NOUN\n",
        "    elif nltk_tag.startswith('R'):\n",
        "        return wordnet.ADV\n",
        "    else:\n",
        "        return None"
      ]
    },
    {
      "cell_type": "code",
      "execution_count": null,
      "id": "1843465f",
      "metadata": {
        "id": "1843465f",
        "outputId": "05cb669f-6c92-45bd-eddc-4ed98f9d4a5d"
      },
      "outputs": [
        {
          "data": {
            "text/plain": [
              "'a'"
            ]
          },
          "execution_count": 66,
          "metadata": {},
          "output_type": "execute_result"
        }
      ],
      "source": [
        "wordnet.ADJ"
      ]
    },
    {
      "cell_type": "code",
      "execution_count": null,
      "id": "4b334a5f",
      "metadata": {
        "id": "4b334a5f",
        "outputId": "0edaea2d-12c0-4a14-c3e2-bbf92ac1569c"
      },
      "outputs": [
        {
          "data": {
            "text/plain": [
              "'v'"
            ]
          },
          "execution_count": 68,
          "metadata": {},
          "output_type": "execute_result"
        }
      ],
      "source": [
        "pos_tagger(\"are\")"
      ]
    },
    {
      "cell_type": "code",
      "execution_count": null,
      "id": "e9143082",
      "metadata": {
        "id": "e9143082",
        "outputId": "1ad76c6b-48d5-499b-87a9-aa6cb7f055e5"
      },
      "outputs": [
        {
          "name": "stdout",
          "output_type": "stream",
          "text": [
            "wait\n"
          ]
        }
      ],
      "source": [
        "print(lemmatizer.lemmatize(\"waiting\",pos_tagger(\"waiting\")))"
      ]
    },
    {
      "cell_type": "code",
      "execution_count": null,
      "id": "80dc3fc3",
      "metadata": {
        "id": "80dc3fc3",
        "outputId": "2fce275c-a16d-4a7b-ec6f-446229980404"
      },
      "outputs": [
        {
          "name": "stdout",
          "output_type": "stream",
          "text": [
            "['The', 'student', 'be', 'wait', 'outside', 'the', 'class', 'room', 'eagerly']\n"
          ]
        }
      ],
      "source": [
        "sentence=\"The students are waiting outside the class room eagerly\"\n",
        "word_tokens= word_tokenize(sentence)\n",
        "lemmatized=[]\n",
        "for token in word_tokens:\n",
        "    tag= pos_tagger(token)\n",
        "    if tag==None:\n",
        "        lemmatized.append(lemmatizer.lemmatize(token))\n",
        "    else:\n",
        "        lemmatized.append(lemmatizer.lemmatize(token,tag))\n",
        "\n",
        "\n",
        "print(lemmatized)"
      ]
    },
    {
      "cell_type": "markdown",
      "id": "1965a267",
      "metadata": {
        "id": "1965a267"
      },
      "source": [
        "Here we note that adverb eagerly is not getting lemmatized."
      ]
    },
    {
      "cell_type": "code",
      "execution_count": null,
      "id": "545f5215",
      "metadata": {
        "id": "545f5215",
        "outputId": "da255050-fdd5-4cb4-fbe7-b88d41e41255"
      },
      "outputs": [
        {
          "data": {
            "text/plain": [
              "[('eagerly', 'RB')]"
            ]
          },
          "execution_count": 73,
          "metadata": {},
          "output_type": "execute_result"
        }
      ],
      "source": [
        "nltk.pos_tag([\"eagerly\"])"
      ]
    },
    {
      "cell_type": "code",
      "execution_count": null,
      "id": "13281deb",
      "metadata": {
        "id": "13281deb",
        "outputId": "b1638103-6882-478f-d747-186ad554ebd7"
      },
      "outputs": [
        {
          "data": {
            "text/plain": [
              "'r'"
            ]
          },
          "execution_count": 74,
          "metadata": {},
          "output_type": "execute_result"
        }
      ],
      "source": [
        "pos_tagger(\"eagerly\")"
      ]
    },
    {
      "cell_type": "code",
      "execution_count": null,
      "id": "32184f32",
      "metadata": {
        "id": "32184f32",
        "outputId": "737501d8-014c-42b7-d9a5-53a65581ca62"
      },
      "outputs": [
        {
          "data": {
            "text/plain": [
              "'nicely'"
            ]
          },
          "execution_count": 82,
          "metadata": {},
          "output_type": "execute_result"
        }
      ],
      "source": [
        "lemmatizer.lemmatize(\"nicely\",\"r\")"
      ]
    },
    {
      "cell_type": "markdown",
      "id": "d6b05aeb",
      "metadata": {
        "id": "d6b05aeb"
      },
      "source": [
        "Ref: for adverb lemmatization\n",
        "    \n",
        "https://stackoverflow.com/questions/28475620/wordnet-lemmatizer-in-nltk-is-not-working-for-adverbs  \n",
        "    "
      ]
    },
    {
      "cell_type": "code",
      "execution_count": null,
      "id": "0a481164",
      "metadata": {
        "id": "0a481164",
        "outputId": "ae261d39-b66c-4745-ac38-3ca74bf1f014"
      },
      "outputs": [
        {
          "data": {
            "text/plain": [
              "'angry'"
            ]
          },
          "execution_count": 83,
          "metadata": {},
          "output_type": "execute_result"
        }
      ],
      "source": [
        "from nltk.corpus import wordnet as wn\n",
        "wn.synset('angrily.r.1').lemmas()[0].pertainyms()[0].name()\n"
      ]
    },
    {
      "cell_type": "code",
      "execution_count": null,
      "id": "6520cd53",
      "metadata": {
        "id": "6520cd53",
        "outputId": "3ebfe964-9df8-4b55-90f4-26f5a4146daa"
      },
      "outputs": [
        {
          "data": {
            "text/plain": [
              "'eager'"
            ]
          },
          "execution_count": 84,
          "metadata": {},
          "output_type": "execute_result"
        }
      ],
      "source": [
        "wn.synset('eagerly.r.1').lemmas()[0].pertainyms()[0].name()"
      ]
    },
    {
      "cell_type": "code",
      "execution_count": null,
      "id": "3fcbc8be",
      "metadata": {
        "id": "3fcbc8be",
        "outputId": "c69b8f46-4e58-4f65-93b5-f258f44daa3d"
      },
      "outputs": [
        {
          "name": "stdout",
          "output_type": "stream",
          "text": [
            "['The', 'student', 'be', 'wait', 'outside', 'the', 'class', 'room', 'eager']\n"
          ]
        }
      ],
      "source": [
        "#This code will lemmatize adverbs also\n",
        "\n",
        "sentence=\"The students are waiting outside the class room eagerly\"\n",
        "word_tokens= word_tokenize(sentence)\n",
        "lemmatized=[]\n",
        "for token in word_tokens:\n",
        "    tag= pos_tagger(token)\n",
        "    if tag==None:\n",
        "        lemmatized.append(lemmatizer.lemmatize(token))\n",
        "    elif tag==\"r\":\n",
        "        lemmatized.append(wn.synset('{}.r.1'.format(token)).lemmas()[0].pertainyms()[0].name())\n",
        "\n",
        "    else:\n",
        "        lemmatized.append(lemmatizer.lemmatize(token,tag))\n",
        "\n",
        "\n",
        "print(lemmatized)"
      ]
    },
    {
      "cell_type": "code",
      "execution_count": null,
      "id": "eb021ca4",
      "metadata": {
        "id": "eb021ca4"
      },
      "outputs": [],
      "source": []
    }
  ],
  "metadata": {
    "kernelspec": {
      "display_name": "Python 3",
      "language": "python",
      "name": "python3"
    },
    "language_info": {
      "codemirror_mode": {
        "name": "ipython",
        "version": 3
      },
      "file_extension": ".py",
      "mimetype": "text/x-python",
      "name": "python",
      "nbconvert_exporter": "python",
      "pygments_lexer": "ipython3",
      "version": "3.8.8"
    },
    "colab": {
      "provenance": []
    }
  },
  "nbformat": 4,
  "nbformat_minor": 5
}